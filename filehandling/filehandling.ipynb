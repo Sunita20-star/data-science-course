{
 "cells": [
  {
   "cell_type": "code",
   "execution_count": 1,
   "id": "fe870cb3",
   "metadata": {},
   "outputs": [],
   "source": [
    "file=open('sun.txt','w')\n",
    "file.write('sunita rai is a good girl\\n she lives in kirtipur')\n",
    "file.close()"
   ]
  },
  {
   "cell_type": "code",
   "execution_count": 1,
   "id": "0ad21036",
   "metadata": {},
   "outputs": [
    {
     "name": "stdout",
     "output_type": "stream",
     "text": [
      "sunita rai is a good girl\n",
      " she lives in kirtipur\n"
     ]
    }
   ],
   "source": [
    "file=open('sun.txt','r')\n",
    "content=file.read()\n",
    "file.close()\n",
    "print(content)"
   ]
  },
  {
   "cell_type": "code",
   "execution_count": 4,
   "id": "223b0fd4",
   "metadata": {},
   "outputs": [],
   "source": [
    "file=open('sun.txt','a')\n",
    "file.write('\\nhellour')\n",
    "file.close()"
   ]
  },
  {
   "cell_type": "code",
   "execution_count": 5,
   "id": "a4181ec9",
   "metadata": {},
   "outputs": [
    {
     "name": "stdout",
     "output_type": "stream",
     "text": [
      "sunita rai is a good girl\n",
      " she lives in kirtipurhellour\n",
      "hellour\n"
     ]
    }
   ],
   "source": [
    "file=open('sun.txt','r')\n",
    "content=file.read()\n",
    "file.close()\n",
    "print(content)"
   ]
  },
  {
   "cell_type": "code",
   "execution_count": 2,
   "id": "474d9373",
   "metadata": {},
   "outputs": [],
   "source": [
    "file=open('names.txt','w')\n",
    "file.write('')\n",
    "file.close()"
   ]
  },
  {
   "cell_type": "code",
   "execution_count": 3,
   "id": "a9d134f4",
   "metadata": {},
   "outputs": [],
   "source": [
    "file=open('names.txt','a')\n",
    "file.write('sunita'+'-')\n",
    "file.write('anita'+'-')\n",
    "file.write('reshma'+'-')\n",
    "file.write('namrata'+'-')\n",
    "file.write('ram'+'-')\n",
    "file.close()\n"
   ]
  },
  {
   "cell_type": "code",
   "execution_count": 7,
   "id": "fdab721a",
   "metadata": {},
   "outputs": [],
   "source": [
    "file=open('paragraph.txt','w')\n",
    "file.write('hello my name is sunita rai.\\nI am from kirtipur.')\n",
    "file.close()"
   ]
  },
  {
   "cell_type": "code",
   "execution_count": 5,
   "id": "793bfa6e",
   "metadata": {},
   "outputs": [
    {
     "name": "stdout",
     "output_type": "stream",
     "text": [
      "sunita\n",
      "prgati\n",
      "orisha\n",
      "utsav\n",
      "anusunita_pragati_orisha_anita_namrata_sunita-anita-reshma-namrata-ram-\n",
      "['sunita\\nprgati\\norisha\\nutsav\\nanusunita_pragati_orisha_anita_namrata_sunita', 'anita', 'reshma', 'namrata', 'ram', '']\n"
     ]
    }
   ],
   "source": [
    "file=open('names.txt','r')\n",
    "contents=file.read()\n",
    "file.close()\n",
    "print(contents)\n",
    "list_data=contents.split('-')\n",
    "print(list_data)"
   ]
  },
  {
   "cell_type": "code",
   "execution_count": 9,
   "id": "a77c5019",
   "metadata": {},
   "outputs": [
    {
     "name": "stdout",
     "output_type": "stream",
     "text": [
      "hello my name is sunita rai.\n",
      "I am from kirtipur.\n"
     ]
    }
   ],
   "source": [
    "file=open('paragraph.txt','r')\n",
    "content1=file.read()\n",
    "file.close()\n",
    "print(content1)"
   ]
  },
  {
   "cell_type": "code",
   "execution_count": 7,
   "id": "3341a2d4",
   "metadata": {},
   "outputs": [],
   "source": [
    "def register(username):\n",
    "  file=open('register.txt','a')\n",
    "  file.write(username)\n",
    "  file.close()\n",
    "def login(username):\n",
    "  file=open('register.txt','r')\n",
    "  content=file.read()\n",
    "  file.close()\n",
    "  list_content=content.split()\n",
    "  if username in list_content:\n",
    "   choice=int(input('enter 1 for register and 2 for login'))\n",
    "   match choice:\n",
    "    case 1:\n",
    "      username=input('enter a username')\n",
    "      register(username)\n",
    "    case 2:\n",
    "     username=input('enter a username')\n",
    "     login(username)\n",
    "    case _:\n",
    "     print('invalid inout')\n",
    "    "
   ]
  },
  {
   "cell_type": "code",
   "execution_count": 3,
   "id": "82bd23ed",
   "metadata": {},
   "outputs": [],
   "source": [
    "# Clear the content of hobby.txt\n",
    "with open('hobby.txt', 'w') as file:\n",
    "    pass  # File is now empty\n"
   ]
  }
 ],
 "metadata": {
  "kernelspec": {
   "display_name": "name",
   "language": "python",
   "name": "python3"
  },
  "language_info": {
   "codemirror_mode": {
    "name": "ipython",
    "version": 3
   },
   "file_extension": ".py",
   "mimetype": "text/x-python",
   "name": "python",
   "nbconvert_exporter": "python",
   "pygments_lexer": "ipython3",
   "version": "3.13.5"
  }
 },
 "nbformat": 4,
 "nbformat_minor": 5
}
