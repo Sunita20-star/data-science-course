{
 "cells": [
  {
   "cell_type": "markdown",
   "id": "b40e9e59",
   "metadata": {},
   "source": [
    "constructor is a method that is called automatically whwn a new object of the class is created\n",
    "->we only have one constructor in oop in python i.e __init__"
   ]
  },
  {
   "cell_type": "code",
   "execution_count": null,
   "id": "b1be56f7",
   "metadata": {},
   "outputs": [
    {
     "name": "stdout",
     "output_type": "stream",
     "text": [
      "raj\n",
      "raj\n"
     ]
    }
   ],
   "source": [
    "class student:\n",
    "  name='raj'\n",
    "  age=23\n",
    "  marks=89\n",
    "s1=student()\n",
    "print(s1.name)\n",
    "s2=student()\n",
    "print(s2.name)\n",
    "#jati choti object banayo teti jati call hunxxa __init__ method\n",
    "#jati ota object banaye pani eutai aauxa ie static"
   ]
  },
  {
   "cell_type": "code",
   "execution_count": null,
   "id": "5807ec76",
   "metadata": {},
   "outputs": [
    {
     "name": "stdout",
     "output_type": "stream",
     "text": [
      "reshma\n",
      "namraj\n"
     ]
    }
   ],
   "source": [
    "class student:\n",
    "  \n",
    "    name='raj'\n",
    "    age=23\n",
    "    marks=89\n",
    "    def __init__(self,name,age,marks):  #self le object lai linxa tesaile error aaudaina 5 parameters but 4 values\n",
    "      self.name=name\n",
    "      self.age=age\n",
    "      self.marks=marks\n",
    "s1=student('reshma',15,89)\n",
    "print(s1.name)\n",
    "\n",
    "s2=student('namraj',33,77)\n",
    "print(s2.name)\n",
    "#dynamic jati choti object banaye pani different value aauxa\n"
   ]
  },
  {
   "cell_type": "markdown",
   "id": "929134f8",
   "metadata": {},
   "source": [
    "types of attributes:\n",
    "->class attributes-that doesnot changes according to the objects\n",
    "->object attributes-that changes according to the objects\n"
   ]
  },
  {
   "cell_type": "code",
   "execution_count": 12,
   "id": "0251c4d9",
   "metadata": {},
   "outputs": [
    {
     "name": "stdout",
     "output_type": "stream",
     "text": [
      "sita\n",
      "mindrisers college\n",
      "rita\n",
      "mindrisers college\n"
     ]
    }
   ],
   "source": [
    "#class and object attributs in same class\n",
    "class student:\n",
    "  college_name='mindrisers college'\n",
    "  def __init__(self,name,age,marks):\n",
    "    self.name=name\n",
    "    self.age=age\n",
    "    self.marks=marks\n",
    "s1=student('sita',33,78)\n",
    "print(s1.name)\n",
    "print(s1.college_name)\n",
    "s2=student('rita',34,98)\n",
    "print(s2.name)\n",
    "print(s2.college_name)"
   ]
  }
 ],
 "metadata": {
  "kernelspec": {
   "display_name": "name",
   "language": "python",
   "name": "python3"
  },
  "language_info": {
   "codemirror_mode": {
    "name": "ipython",
    "version": 3
   },
   "file_extension": ".py",
   "mimetype": "text/x-python",
   "name": "python",
   "nbconvert_exporter": "python",
   "pygments_lexer": "ipython3",
   "version": "3.13.5"
  }
 },
 "nbformat": 4,
 "nbformat_minor": 5
}
