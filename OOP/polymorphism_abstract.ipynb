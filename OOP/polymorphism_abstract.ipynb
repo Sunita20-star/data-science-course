{
 "cells": [
  {
   "cell_type": "markdown",
   "id": "92816086",
   "metadata": {},
   "source": [
    "polymorphism- same method that acts differently accordingly to the different class."
   ]
  },
  {
   "cell_type": "code",
   "execution_count": 1,
   "id": "7cb95321",
   "metadata": {},
   "outputs": [
    {
     "name": "stdout",
     "output_type": "stream",
     "text": [
      "bark\n",
      "chirp\n",
      "meow\n"
     ]
    }
   ],
   "source": [
    "class Dog:\n",
    "  def sound(self):\n",
    "    print('bark')\n",
    "class Bird:\n",
    "  def sound(self):\n",
    "    print('chirp')\n",
    "class Cat:\n",
    "  def sound(self):\n",
    "    print('meow')\n",
    "    \n",
    "d1=Dog()\n",
    "b1=Bird()\n",
    "c1=Cat()\n",
    "d1.sound()\n",
    "b1.sound()\n",
    "c1.sound()"
   ]
  },
  {
   "cell_type": "markdown",
   "id": "fb655211",
   "metadata": {},
   "source": [
    "Abstraction is the process of hiding the complex implementation logic from the user and only showing necessary information."
   ]
  },
  {
   "cell_type": "code",
   "execution_count": 2,
   "id": "9a9aea90",
   "metadata": {},
   "outputs": [
    {
     "name": "stdout",
     "output_type": "stream",
     "text": [
      "car started......\n"
     ]
    }
   ],
   "source": [
    "class car:\n",
    "  status=False\n",
    "  brake=False\n",
    "  fuel=False\n",
    "  battery=False\n",
    "  def start(self):\n",
    "   self.status=True\n",
    "   self.brake=True\n",
    "   self.fuel=True\n",
    "   self.battery=True\n",
    "   print('car started......')\n",
    "nissan=car()\n",
    "nissan.start()"
   ]
  },
  {
   "cell_type": "code",
   "execution_count": 4,
   "id": "1c7f6744",
   "metadata": {},
   "outputs": [
    {
     "name": "stdout",
     "output_type": "stream",
     "text": [
      "i m math teacher\n"
     ]
    }
   ],
   "source": [
    "from abc import ABC, abstractmethod\n",
    "class Teacher(ABC):\n",
    "  @abstractmethod   #abstractmethod tells us that every class that inherits its class should have thr teaches math\n",
    "  def teaches(self):\n",
    "    print('i m a teacher')\n",
    "class Mathteacher(Teacher):\n",
    "  def teaches(self):\n",
    "    print('i m math teacher')\n",
    "m1=Mathteacher( )\n",
    "m1.teaches()"
   ]
  }
 ],
 "metadata": {
  "kernelspec": {
   "display_name": "name",
   "language": "python",
   "name": "python3"
  },
  "language_info": {
   "codemirror_mode": {
    "name": "ipython",
    "version": 3
   },
   "file_extension": ".py",
   "mimetype": "text/x-python",
   "name": "python",
   "nbconvert_exporter": "python",
   "pygments_lexer": "ipython3",
   "version": "3.13.5"
  }
 },
 "nbformat": 4,
 "nbformat_minor": 5
}
