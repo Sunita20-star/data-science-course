{
 "cells": [
  {
   "cell_type": "markdown",
   "id": "ce379c9a",
   "metadata": {},
   "source": [
    "- Library Management System Classes: Book, Library. Add methods to add_book, remove_book, search_book. Use inheritance for different book types (e.g., EBook)."
   ]
  },
  {
   "cell_type": "code",
   "execution_count": null,
   "id": "10e7a682",
   "metadata": {},
   "outputs": [
    {
     "name": "stdout",
     "output_type": "stream",
     "text": [
      "harry potteradded in the list\n",
      "jiban kada ki phooladded in the list\n"
     ]
    },
    {
     "ename": "AttributeError",
     "evalue": "'LMS' object has no attribute 'books'",
     "output_type": "error",
     "traceback": [
      "\u001b[31m---------------------------------------------------------------------------\u001b[39m",
      "\u001b[31mAttributeError\u001b[39m                            Traceback (most recent call last)",
      "\u001b[36mCell\u001b[39m\u001b[36m \u001b[39m\u001b[32mIn[7]\u001b[39m\u001b[32m, line 46\u001b[39m\n\u001b[32m     44\u001b[39m l1.add_book(\u001b[33m'\u001b[39m\u001b[33mharry potter\u001b[39m\u001b[33m'\u001b[39m)\n\u001b[32m     45\u001b[39m l1.add_book(\u001b[33m'\u001b[39m\u001b[33mjiban kada ki phool\u001b[39m\u001b[33m'\u001b[39m)\n\u001b[32m---> \u001b[39m\u001b[32m46\u001b[39m \u001b[43ml1\u001b[49m\u001b[43m.\u001b[49m\u001b[43mview_books\u001b[49m\u001b[43m(\u001b[49m\u001b[43m)\u001b[49m\n",
      "\u001b[36mCell\u001b[39m\u001b[36m \u001b[39m\u001b[32mIn[7]\u001b[39m\u001b[32m, line 40\u001b[39m, in \u001b[36mLMS.view_books\u001b[39m\u001b[34m(self)\u001b[39m\n\u001b[32m     39\u001b[39m \u001b[38;5;28;01mdef\u001b[39;00m\u001b[38;5;250m \u001b[39m\u001b[34mview_books\u001b[39m(\u001b[38;5;28mself\u001b[39m):\n\u001b[32m---> \u001b[39m\u001b[32m40\u001b[39m   \u001b[38;5;28;01mfor\u001b[39;00m i \u001b[38;5;129;01min\u001b[39;00m \u001b[38;5;28;43mself\u001b[39;49m\u001b[43m.\u001b[49m\u001b[43mbooks\u001b[49m:\n\u001b[32m     41\u001b[39m     \u001b[38;5;28mprint\u001b[39m(i)\n",
      "\u001b[31mAttributeError\u001b[39m: 'LMS' object has no attribute 'books'"
     ]
    }
   ],
   "source": [
    "class Book:\n",
    "  def __init__(self,title,author,pages):\n",
    "    self.title=title\n",
    "    self.author=author\n",
    "    self.pages=pages\n",
    "    \n",
    "class ebook(Book):\n",
    "  def __init__(self,title,author,pages,file_size):\n",
    "    super().__init__(title,author,pages)  #parent class ko inherita gareko title,author,pages haru\n",
    "    self.file_size=file_size\n",
    "    \n",
    "class LMS():  #Library Management system\n",
    "  def add_book(self,book_name):\n",
    "    books=[]\n",
    "    books.append(book_name)\n",
    "    print(f\"{book_name}added in the list\")\n",
    "    \n",
    "  def remove_book(self,book_name):\n",
    "    for i in self.books:\n",
    "      if i==book_name:\n",
    "        self.books.remove(i)\n",
    "        print(f\"{book_name} removed from the list \")\n",
    "        print(self.books)\n",
    "        break\n",
    "      else:\n",
    "        print('book not found')\n",
    "        print(self.books)\n",
    "        \n",
    "  def search_book(self,book_name):\n",
    "     for i in self.books:\n",
    "      if i == book_name:\n",
    "        index = self.books.index(i)\n",
    "        print(f\"{book_name} found in index \")\n",
    "        print(self.books)\n",
    "      else:\n",
    "        print('book not found')\n",
    "        print(self.books)\n",
    "        \n",
    "  def view_books(self):\n",
    "    for i in self.books:\n",
    "      print(i)\n",
    "        \n",
    "l1=LMS()\n",
    "l1.add_book('harry potter')\n",
    "l1.add_book('jiban kada ki phool')\n",
    "l1.add_book('journey to the center of the earth')\n",
    "l1.add_book('power of subconsicious mind')\n",
    "l1.view_books()\n",
    "\n",
    "    "
   ]
  }
 ],
 "metadata": {
  "kernelspec": {
   "display_name": "name",
   "language": "python",
   "name": "python3"
  },
  "language_info": {
   "codemirror_mode": {
    "name": "ipython",
    "version": 3
   },
   "file_extension": ".py",
   "mimetype": "text/x-python",
   "name": "python",
   "nbconvert_exporter": "python",
   "pygments_lexer": "ipython3",
   "version": "3.13.5"
  }
 },
 "nbformat": 4,
 "nbformat_minor": 5
}
