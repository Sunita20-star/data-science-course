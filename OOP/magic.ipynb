{
 "cells": [
  {
   "cell_type": "markdown",
   "id": "0799200b",
   "metadata": {},
   "source": [
    "magic method"
   ]
  },
  {
   "cell_type": "code",
   "execution_count": 5,
   "id": "9caf42bf",
   "metadata": {},
   "outputs": [
    {
     "name": "stdout",
     "output_type": "stream",
     "text": [
      "the str method is being called\n",
      "16\n"
     ]
    }
   ],
   "source": [
    "class Car:\n",
    "  name='toyota cersion 1'\n",
    "  def  __str__(self):\n",
    "    return 'the str method is being called'\n",
    "\n",
    "  def __call__(self):\n",
    "    print('the call method is being called')\n",
    "  \n",
    "  def __len__(self,value):\n",
    "    count=0\n",
    "    for i in value:\n",
    "      count+=1\n",
    "    return count\n",
    "c1=Car()\n",
    "print(c1)\n",
    "\n",
    "print(len(c1.name))\n"
   ]
  }
 ],
 "metadata": {
  "kernelspec": {
   "display_name": "name",
   "language": "python",
   "name": "python3"
  },
  "language_info": {
   "codemirror_mode": {
    "name": "ipython",
    "version": 3
   },
   "file_extension": ".py",
   "mimetype": "text/x-python",
   "name": "python",
   "nbconvert_exporter": "python",
   "pygments_lexer": "ipython3",
   "version": "3.13.5"
  }
 },
 "nbformat": 4,
 "nbformat_minor": 5
}
