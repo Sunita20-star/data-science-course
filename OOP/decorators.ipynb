{
 "cells": [
  {
   "cell_type": "markdown",
   "id": "a6e47049",
   "metadata": {},
   "source": [
    "decorators are the special functions or methods in python that takes another function as an argument and returns the modified(vitra ko function lai modified garxa bahira ko function le linxa) version of the funcion without changing the original function \n",
    "we use @ before calling the decorators\n",
    "->it always have the nested function"
   ]
  },
  {
   "cell_type": "code",
   "execution_count": null,
   "id": "0925e097",
   "metadata": {},
   "outputs": [
    {
     "name": "stdout",
     "output_type": "stream",
     "text": [
      "hello world\n",
      "hello\n",
      "hello world\n"
     ]
    }
   ],
   "source": [
    "def my_decorator(func):  #nested function i.e abc is the updated version of func\n",
    "  def abc():\n",
    "    print ('hello world')\n",
    "    func()\n",
    "    print ('hello world')\n",
    "  return abc  #nested function lai return garxa\n",
    "@my_decorator #tala ko function as argument linxa\n",
    "def hello():\n",
    "  print('hello')\n",
    "  \n",
    "hello()"
   ]
  },
  {
   "cell_type": "code",
   "execution_count": 7,
   "id": "4eb6a4f0",
   "metadata": {},
   "outputs": [
    {
     "name": "stdout",
     "output_type": "stream",
     "text": [
      "10\n",
      "thank you\n"
     ]
    }
   ],
   "source": [
    "def abc(func):\n",
    "  def inner():\n",
    "   num1=int(input('enter number 1'))\n",
    "   num2=int(input('enter number 2'))\n",
    "   print(num1+num2)\n",
    "   func()\n",
    "  return inner\n",
    "@abc\n",
    "def hello():\n",
    "  print('thank you')\n",
    "  \n",
    "hello()\n",
    "  "
   ]
  },
  {
   "cell_type": "markdown",
   "id": "70d1a8ad",
   "metadata": {},
   "source": [
    "self ra static sangai use garne haina"
   ]
  },
  {
   "cell_type": "code",
   "execution_count": null,
   "id": "d45137e6",
   "metadata": {},
   "outputs": [
    {
     "name": "stdout",
     "output_type": "stream",
     "text": [
      "self\n"
     ]
    }
   ],
   "source": [
    "class ABC:\n",
    " @staticmethod\n",
    " def info():\n",
    "    print('self')\n",
    "abc=ABC()\n",
    "abc.info()\n",
    "# class ABC:\n",
    "#  def info(self):  if static is not used then this is use\n",
    "#     print('self')\n",
    "# abc=ABC()\n",
    "# abc.info()"
   ]
  },
  {
   "cell_type": "markdown",
   "id": "f79d44b9",
   "metadata": {},
   "source": [
    "Create a class Car and make objects of the class of your choice using both class and object attributes\n",
    "types of attributes:\n",
    "->class attributes-that doesnot changes according to the objects\n",
    "->object attributes-that changes according to the objects\n"
   ]
  },
  {
   "cell_type": "code",
   "execution_count": 5,
   "id": "cc7bd2fc",
   "metadata": {},
   "outputs": [
    {
     "name": "stdout",
     "output_type": "stream",
     "text": [
      "Brand: toyota, Model: petrol, Color: 5 seater, Wheels: black\n",
      "Brand: toyota, Model: diesel, Color: 7 seater, Wheels: black\n"
     ]
    }
   ],
   "source": [
    "class car:\n",
    "  brand='toyota'  #class attributes\n",
    "  color='black'\n",
    "  def __init__(self,engine_type,seat_capacity):\n",
    "    self.engine_type=engine_type   #object attributes\n",
    "    self.seat_capacity=seat_capacity\n",
    "  def show_info(self):\n",
    "    print(f\"Brand: {car.brand}, Model: {self.engine_type}, Color: {self.seat_capacity}, Wheels: {car.color}\")\n",
    "\n",
    "\n",
    "# Creating objects\n",
    "car1 = car(\"petrol\", \"5 seater\")\n",
    "car2 = car(\"diesel\", \"7 seater\")\n",
    "\n",
    "car1.show_info()\n",
    "car2.show_info()\n",
    "\n",
    "    "
   ]
  }
 ],
 "metadata": {
  "kernelspec": {
   "display_name": "name",
   "language": "python",
   "name": "python3"
  },
  "language_info": {
   "codemirror_mode": {
    "name": "ipython",
    "version": 3
   },
   "file_extension": ".py",
   "mimetype": "text/x-python",
   "name": "python",
   "nbconvert_exporter": "python",
   "pygments_lexer": "ipython3",
   "version": "3.13.5"
  }
 },
 "nbformat": 4,
 "nbformat_minor": 5
}
