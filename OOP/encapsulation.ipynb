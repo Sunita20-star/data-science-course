{
 "cells": [
  {
   "cell_type": "markdown",
   "id": "7045da4f",
   "metadata": {},
   "source": [
    "encapsulation help in protecting or hiding the attributes and methods inside of the class\n",
    "->so that even the object of it cannot access the attributes and methods but can be accessed by other methods inside the class and they should not be encapsulated."
   ]
  },
  {
   "cell_type": "code",
   "execution_count": 2,
   "id": "36d81932",
   "metadata": {},
   "outputs": [
    {
     "ename": "AttributeError",
     "evalue": "type object 'system' has no attribute '__password'",
     "output_type": "error",
     "traceback": [
      "\u001b[31m---------------------------------------------------------------------------\u001b[39m",
      "\u001b[31mAttributeError\u001b[39m                            Traceback (most recent call last)",
      "\u001b[36mCell\u001b[39m\u001b[36m \u001b[39m\u001b[32mIn[2]\u001b[39m\u001b[32m, line 5\u001b[39m\n\u001b[32m      3\u001b[39m   __password=\u001b[33m'\u001b[39m\u001b[33msunita123\u001b[39m\u001b[33m'\u001b[39m\n\u001b[32m      4\u001b[39m s1=system\n\u001b[32m----> \u001b[39m\u001b[32m5\u001b[39m \u001b[38;5;28mprint\u001b[39m(\u001b[43ms1\u001b[49m\u001b[43m.\u001b[49m\u001b[43m__password\u001b[49m)\n",
      "\u001b[31mAttributeError\u001b[39m: type object 'system' has no attribute '__password'"
     ]
    }
   ],
   "source": [
    "class system:\n",
    "  username='sunita'\n",
    "  __password='sunita123'\n",
    "s1=system\n",
    "print(s1.__password)"
   ]
  },
  {
   "cell_type": "code",
   "execution_count": 9,
   "id": "9ed39cc5",
   "metadata": {},
   "outputs": [
    {
     "ename": "TypeError",
     "evalue": "system.change_password() missing 1 required positional argument: 'self'",
     "output_type": "error",
     "traceback": [
      "\u001b[31m---------------------------------------------------------------------------\u001b[39m",
      "\u001b[31mTypeError\u001b[39m                                 Traceback (most recent call last)",
      "\u001b[36mCell\u001b[39m\u001b[36m \u001b[39m\u001b[32mIn[9]\u001b[39m\u001b[32m, line 12\u001b[39m\n\u001b[32m     10\u001b[39m s2=system\n\u001b[32m     11\u001b[39m \u001b[38;5;66;03m# print(s2.__age)\u001b[39;00m\n\u001b[32m---> \u001b[39m\u001b[32m12\u001b[39m \u001b[43ms2\u001b[49m\u001b[43m.\u001b[49m\u001b[43mchange_password\u001b[49m\u001b[43m(\u001b[49m\u001b[43m)\u001b[49m\n",
      "\u001b[31mTypeError\u001b[39m: system.change_password() missing 1 required positional argument: 'self'"
     ]
    }
   ],
   "source": [
    "class system:\n",
    "  username='sunita'\n",
    "  __password='sunita123'\n",
    "  __age=23\n",
    "  def change_password(self):\n",
    "    self.__password='sunita87655'\n",
    "    print(self.__password)\n",
    "s1=system\n",
    "# print(s1.__password)\n",
    "s2=system\n",
    "# print(s2.__age)\n",
    "s2.change_password()"
   ]
  },
  {
   "cell_type": "code",
   "execution_count": 10,
   "id": "0083cc09",
   "metadata": {},
   "outputs": [
    {
     "name": "stdout",
     "output_type": "stream",
     "text": [
      "Password changed to: sunita87655\n",
      "Password is: sunita87655\n"
     ]
    }
   ],
   "source": [
    "class System:\n",
    "    username = 'sunita'\n",
    "    __password = 'sunita123'\n",
    "    __age = 23\n",
    "\n",
    "    def change_password(self, new_password):\n",
    "        self.__password = new_password  # changes instance variable\n",
    "        print(\"Password changed to:\", self.__password)\n",
    "\n",
    "    def show_password(self):\n",
    "        print(\"Password is:\", self.__password)\n",
    "\n",
    "# Create objects\n",
    "s1 = System()\n",
    "s2 = System()\n",
    "\n",
    "# Change password for s2\n",
    "s2.change_password('sunita87655')  # Works\n",
    "\n",
    "# Access password using a method\n",
    "s2.show_password()\n"
   ]
  },
  {
   "cell_type": "code",
   "execution_count": null,
   "id": "559dac47",
   "metadata": {},
   "outputs": [],
   "source": [
    "class resetpassword:\n",
    "  username='sunita'\n",
    "  password='sun3425'\n",
    "  "
   ]
  }
 ],
 "metadata": {
  "kernelspec": {
   "display_name": "name",
   "language": "python",
   "name": "python3"
  },
  "language_info": {
   "codemirror_mode": {
    "name": "ipython",
    "version": 3
   },
   "file_extension": ".py",
   "mimetype": "text/x-python",
   "name": "python",
   "nbconvert_exporter": "python",
   "pygments_lexer": "ipython3",
   "version": "3.13.5"
  }
 },
 "nbformat": 4,
 "nbformat_minor": 5
}
