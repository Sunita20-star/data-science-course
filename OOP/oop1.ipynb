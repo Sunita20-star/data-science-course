{
 "cells": [
  {
   "cell_type": "markdown",
   "id": "675951c2",
   "metadata": {},
   "source": [
    "oop is all about classes and objects and python is all about oop"
   ]
  },
  {
   "cell_type": "code",
   "execution_count": 3,
   "id": "87f26c0d",
   "metadata": {},
   "outputs": [
    {
     "name": "stdout",
     "output_type": "stream",
     "text": [
      "<class 'str'>\n",
      "<class 'int'>\n",
      "<class 'float'>\n"
     ]
    }
   ],
   "source": [
    "name='sunita' #string class ko object\n",
    "age=23  #int class ko obj\n",
    "marks=89.7\n",
    "print(type(name))\n",
    "print(type(age))\n",
    "print(type(marks))"
   ]
  },
  {
   "cell_type": "code",
   "execution_count": 8,
   "id": "974d63af",
   "metadata": {},
   "outputs": [
    {
     "name": "stdout",
     "output_type": "stream",
     "text": [
      "<class 'list'>\n",
      "<class 'bool'>\n",
      "<class 'tuple'>\n",
      "<class 'dict'>\n"
     ]
    }
   ],
   "source": [
    "list_data = ['a', 'b', 'anita', 'True']  # list class object\n",
    "passed=True\n",
    "my_tuple = (1, 2, 3, 'sunita', True)\n",
    "print(type(list_data))\n",
    "print(type(passed))\n",
    "print(type(my_tuple)) \n",
    "my_dict = {\n",
    "    'name': 'Sunita',\n",
    "    'age': 23,\n",
    "    'marks': 89.7\n",
    "}\n",
    "print(type(my_dict))    # <class 'dict'>\n"
   ]
  },
  {
   "cell_type": "code",
   "execution_count": null,
   "id": "6d640bce",
   "metadata": {},
   "outputs": [
    {
     "name": "stdout",
     "output_type": "stream",
     "text": [
      "<__main__.mobile object at 0x0000023335111400>\n",
      "<__main__.mobile object at 0x0000023335111400>\n",
      "used for communication\n",
      "None\n"
     ]
    }
   ],
   "source": [
    "#procedural coding\n",
    "#functional coding\n",
    "#class keyword is used to create a class\n",
    "#any variable is used as an object.We should call a class to make an object of that class\n",
    "class mobile:\n",
    "  color='black'\n",
    "  brand='samsung'\n",
    "  price='120000'\n",
    "#methods are simply the functions defined inside the class\n",
    "#attributes are the variables inside the class\n",
    "  def properties(self):\n",
    "    print(self) #self le hamile banako object linxa\n",
    "    print('used for communication')\n",
    "d1=mobile()\n",
    "print(d1)\n",
    "print(d1.properties()) #method lai call garne tarika\n",
    "  "
   ]
  },
  {
   "cell_type": "markdown",
   "id": "b0e756bf",
   "metadata": {},
   "source": [
    "inheritance-the child class inherits the attributes and methods of parent class\n",
    "types of inheritance\n",
    "1)single-the child class inherits from only ne parent class\n",
    "2)multiple\n",
    "3)multilevel"
   ]
  },
  {
   "cell_type": "code",
   "execution_count": 1,
   "id": "c1a84410",
   "metadata": {},
   "outputs": [
    {
     "name": "stdout",
     "output_type": "stream",
     "text": [
      "80\n"
     ]
    }
   ],
   "source": [
    "class grandparents:\n",
    "  name='grandfather'\n",
    "  age=80\n",
    "class parent:\n",
    "  name='parent'\n",
    "  age=59\n",
    "  def walk(self):\n",
    "    print('parent is walking')\n",
    "class child(grandparents):#parenthesis kina vane kun class lai inherit garne khojeko\n",
    "  pass\n",
    "c1=child()\n",
    "print(c1.age) #yo age ta xaina hamro child class ma but answer=80 cuz of single inheritance\n"
   ]
  },
  {
   "cell_type": "code",
   "execution_count": null,
   "id": "9dbd23f6",
   "metadata": {},
   "outputs": [
    {
     "name": "stdout",
     "output_type": "stream",
     "text": [
      "child\n",
      "parent is walking\n"
     ]
    }
   ],
   "source": [
    "class grandparents:\n",
    "  name='grandfather'\n",
    "  age=80\n",
    "class parent:\n",
    "  name='parent'\n",
    "  age=59\n",
    "  def walk(self):\n",
    "    print('parent is walking')\n",
    "# this process is known as overriding\n",
    "class child(parent):#parenthesis kina vane kun class lai inherit garne khojeko\n",
    "  name='child'\n",
    "c1=child()\n",
    "print(c1.name) #yo name ta xa hamro child class ma\n",
    "c1.walk() #child class ma xaina so parent class ma janxa\n"
   ]
  },
  {
   "cell_type": "markdown",
   "id": "29ece3a2",
   "metadata": {},
   "source": [
    "multiple inheritance=euta child class le multiple parent class lai inherit garxa ie the child class inherita the properties of multiple parent class"
   ]
  },
  {
   "cell_type": "code",
   "execution_count": null,
   "id": "c903c2a4",
   "metadata": {},
   "outputs": [
    {
     "name": "stdout",
     "output_type": "stream",
     "text": [
      "grandparent is walking\n"
     ]
    }
   ],
   "source": [
    "class grandparents:\n",
    "  name='grandfather'\n",
    "  age=80\n",
    "  def walk(self):\n",
    "    print('grandparent is walking')\n",
    "class parent:\n",
    "  name='parent'\n",
    "  age=59\n",
    "  # def walk(self):\n",
    "  #   print('parent is walking')\n",
    "class child(parent,grandparents):#parenthesis kina vane kun class lai inherit garne khojeko\n",
    "  name='child'\n",
    "  # def walk(self):\n",
    "  #   print('child is walking')\n",
    "c1=child()\n",
    "c1.walk()"
   ]
  },
  {
   "cell_type": "markdown",
   "id": "915fd713",
   "metadata": {},
   "source": [
    "multilevel inheriance-"
   ]
  },
  {
   "cell_type": "code",
   "execution_count": 1,
   "id": "9b4d63cc",
   "metadata": {},
   "outputs": [
    {
     "name": "stdout",
     "output_type": "stream",
     "text": [
      "From B\n",
      "[<class '__main__.D'>, <class '__main__.B'>, <class '__main__.C'>, <class '__main__.A'>, <class 'object'>]\n"
     ]
    }
   ],
   "source": [
    "#MRO \n",
    "class A:\n",
    "    def show(self):\n",
    "        print(\"From A\")\n",
    "\n",
    "class B(A):\n",
    "    def show(self):\n",
    "        print(\"From B\")\n",
    "\n",
    "class C(A):\n",
    "    def show(self):\n",
    "        print(\"From C\")\n",
    "\n",
    "class D(B, C):\n",
    "    pass\n",
    "\n",
    "obj = D()\n",
    "obj.show()\n",
    "print(D.mro())\n"
   ]
  },
  {
   "cell_type": "markdown",
   "id": "17e91750",
   "metadata": {},
   "source": [
    "MRO(Class) = [Class] + merge(MRO(Parent1), MRO(Parent2), ..., [Parent1, Parent2, ...])\n"
   ]
  },
  {
   "cell_type": "code",
   "execution_count": null,
   "id": "68fb22f0",
   "metadata": {},
   "outputs": [
    {
     "name": "stdout",
     "output_type": "stream",
     "text": [
      "[<class '__main__.E'>, <class '__main__.D'>, <class '__main__.C'>, <class '__main__.A'>, <class '__main__.B'>, <class 'object'>]\n"
     ]
    }
   ],
   "source": [
    "class A:\n",
    "  pass\n",
    "class B:\n",
    "  pass\n",
    "class C(A):\n",
    "  pass\n",
    "class D(C,B):\n",
    "  pass\n",
    "class E(D,A):\n",
    "  pass\n",
    "# E+merge(D,A,D A)\n",
    "# E D C A B\n",
    "# D+merge(C,B,C B)  #c kunai tail ma xaina so remove\n",
    "# D C A+merge(B,B)\n",
    "# D C A B\n",
    "# C+merge(A,A)   #C A cuz head head\n",
    "# C A\n",
    "# B\n",
    "# A\n",
    "print(E.mro())"
   ]
  },
  {
   "cell_type": "code",
   "execution_count": 4,
   "id": "5776c365",
   "metadata": {},
   "outputs": [
    {
     "name": "stdout",
     "output_type": "stream",
     "text": [
      "[<class '__main__.E'>, <class '__main__.D'>, <class '__main__.C'>, <class '__main__.A'>, <class '__main__.B'>, <class 'object'>]\n"
     ]
    }
   ],
   "source": [
    "class A:\n",
    "  pass\n",
    "class B:\n",
    "  pass\n",
    "class C(A):\n",
    "  pass\n",
    "class D(C,B):\n",
    "  pass\n",
    "class E(D,A):\n",
    "  pass\n",
    "# E+merge(D,A,D A)\n",
    "# E D C A B\n",
    "# D+merge(C,B,C B)  #c kunai tail ma xaina so remove\n",
    "# D C A+merge(B,B)\n",
    "# D C A B\n",
    "# C+merge(A,A)   #C A cuz head head\n",
    "# C A\n",
    "# B\n",
    "# A\n",
    "print(E.mro())"
   ]
  },
  {
   "cell_type": "code",
   "execution_count": null,
   "id": "4580ffe0",
   "metadata": {},
   "outputs": [],
   "source": [
    "class A:\n",
    "  print('A')\n",
    "class B(A):\n",
    "  print('A')\n",
    "class A:\n",
    "  print('A')\n",
    "class A:\n",
    "  print('A')\n",
    "  \n",
    "  "
   ]
  },
  {
   "cell_type": "code",
   "execution_count": 1,
   "id": "2ca7ba31",
   "metadata": {},
   "outputs": [
    {
     "name": "stdout",
     "output_type": "stream",
     "text": [
      "[<class '__main__.E'>, <class '__main__.C'>, <class '__main__.A'>, <class '__main__.D'>, <class '__main__.B'>, <class 'object'>]\n"
     ]
    }
   ],
   "source": [
    "class A:\n",
    "  pass\n",
    "class B:\n",
    "  pass\n",
    "class C(A, B):\n",
    "  pass\n",
    "class D(B):\n",
    "  pass\n",
    "class E(C, D): \n",
    "  pass\n",
    "print(E.mro())"
   ]
  },
  {
   "cell_type": "code",
   "execution_count": null,
   "id": "2d009a56",
   "metadata": {},
   "outputs": [],
   "source": [
    "class student:\n",
    "  name='amit'\n",
    "  age=21\n",
    "  marks=89\n",
    "  def printinfo(self):\n",
    "    print(f\"{self.name} is {self.age} years old and has {self.marks} marks\")\n",
    "class monitor(student):\n",
    "  name='amit'\n",
    "  age=21\n",
    "  marks=89\n",
    "  def printinfo(self):\n",
    "    print(f\"{self.name} is {self.age} years old and has {self.marks} marks\")\n",
    "#DRY-donot repeat yourself\n",
    "s1=student()\n",
    "s1.printinfo()\n",
    "m1=monitor()\n"
   ]
  },
  {
   "cell_type": "markdown",
   "id": "c4a8a023",
   "metadata": {},
   "source": [
    "we use super() method to access the properties of the parent class from inside the child class\n",
    "if no parent class we are not able to use super() method"
   ]
  },
  {
   "cell_type": "code",
   "execution_count": null,
   "id": "133ab06e",
   "metadata": {},
   "outputs": [
    {
     "name": "stdout",
     "output_type": "stream",
     "text": [
      "amit is 21 years old and has 89 marks\n",
      "ranjit is 22 years old and has 98 marks\n"
     ]
    }
   ],
   "source": [
    "class student:\n",
    "    name = 'amit'\n",
    "    age = 21\n",
    "    marks = 89\n",
    "\n",
    "    def printinfo(self):\n",
    "        print(f\"{self.name} is {self.age} years old and has {self.marks} marks\")\n",
    "\n",
    "class monitor(student):\n",
    "    name = 'ranjit'  \n",
    "    age = 22\n",
    "    marks = 98\n",
    "\n",
    "    def abc(self):\n",
    "        super().printinfo()  # Calls parent class method\n",
    "\n",
    "# Student object\n",
    "s1 = student()\n",
    "s1.printinfo()\n",
    "\n",
    "# Monitor object\n",
    "m1 = monitor()\n",
    "m1.abc()  # Correct method call\n",
    "# def abc(self): \n",
    "#  super().printinfo()\n",
    "#  self.name=super().name\n",
    "#  print(self.name)\n"
   ]
  },
  {
   "cell_type": "code",
   "execution_count": 3,
   "id": "fc0ed156",
   "metadata": {},
   "outputs": [
    {
     "name": "stdout",
     "output_type": "stream",
     "text": [
      "technical book is of price 560\n",
      "\n",
      "python book is of price 666\n",
      "book name: technical\n",
      "book price: 560\n"
     ]
    }
   ],
   "source": [
    "class book:\n",
    "    name = 'technical'\n",
    "    price = 560\n",
    "  \n",
    "    def info(self):\n",
    "        print(f'{self.name} book is of price {self.price}')\n",
    "\n",
    "class ebook(book):\n",
    "    name = 'python'\n",
    "    price = 666\n",
    "    \n",
    "    def abc(self):\n",
    "        # Access parent's method\n",
    "        super().info()\n",
    "        \n",
    "        # Access parent's attribute\n",
    "        print(\"book name:\", super().name)\n",
    "        print(\"book price:\", super().price)\n",
    "\n",
    "# Parent object\n",
    "b1 = book()\n",
    "b1.info()\n",
    "\n",
    "print()\n",
    "\n",
    "# Child object\n",
    "e = ebook()\n",
    "e.abc()\n"
   ]
  },
  {
   "cell_type": "code",
   "execution_count": 7,
   "id": "385bfeba",
   "metadata": {},
   "outputs": [
    {
     "name": "stdout",
     "output_type": "stream",
     "text": [
      "10000\n",
      "1234567890\n",
      "Rs. 1200 is credited in your account\n",
      "total balance is 11200\n",
      "Rs. 5000 is debited from your account\n",
      "total balance is 6200\n"
     ]
    }
   ],
   "source": [
    "class Account:\n",
    "  def __init__(self,balance,acc_no):\n",
    "    self.balance=balance\n",
    "    self.acc_no=acc_no\n",
    "  def debit(self,amount):\n",
    "    self.balance-=amount\n",
    "    print('Rs.',amount,'is debited from your account')\n",
    "    print('total balance is',self.get_balance())\n",
    "  def credit(self,amount):\n",
    "    self.balance+=amount\n",
    "    print('Rs.',amount,'is credited in your account')\n",
    "    print('total balance is',self.get_balance())\n",
    "\n",
    "  def get_balance(self):\n",
    "    return self.balance\n",
    "acc1=Account(10000,1234567890)\n",
    "print(acc1.balance)\n",
    "print(acc1.acc_no)\n",
    "acc1.credit(1200)\n",
    "acc1.debit(5000)"
   ]
  }
 ],
 "metadata": {
  "kernelspec": {
   "display_name": "name",
   "language": "python",
   "name": "python3"
  },
  "language_info": {
   "codemirror_mode": {
    "name": "ipython",
    "version": 3
   },
   "file_extension": ".py",
   "mimetype": "text/x-python",
   "name": "python",
   "nbconvert_exporter": "python",
   "pygments_lexer": "ipython3",
   "version": "3.13.5"
  }
 },
 "nbformat": 4,
 "nbformat_minor": 5
}
