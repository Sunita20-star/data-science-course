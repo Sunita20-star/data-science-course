{
 "cells": [
  {
   "cell_type": "markdown",
   "id": "58168ddd",
   "metadata": {},
   "source": [
    "palindrome using for loop"
   ]
  },
  {
   "cell_type": "code",
   "execution_count": 2,
   "id": "516ee6a1",
   "metadata": {},
   "outputs": [
    {
     "name": "stdout",
     "output_type": "stream",
     "text": [
      "32\n",
      "it is not plaindrome\n"
     ]
    }
   ],
   "source": [
    "text=input(\"enter a word:\")\n",
    "reverse_text=\"\"\n",
    "print(text)\n",
    "for i in range(len(text)-1,-1,-1):\n",
    "  reverse_text=reverse_text+text[i]\n",
    "if text==reverse_text:\n",
    "  print(\"it is a palindrome\")\n",
    "else:\n",
    "  print(\"it is not plaindrome\")\n"
   ]
  },
  {
   "cell_type": "markdown",
   "id": "9f93c1a4",
   "metadata": {},
   "source": [
    "fibonacci series using for loop"
   ]
  },
  {
   "cell_type": "code",
   "execution_count": 3,
   "id": "29e97251",
   "metadata": {},
   "outputs": [
    {
     "name": "stdout",
     "output_type": "stream",
     "text": [
      "0 1 1 2 3 5 8 13 21 34 55 89 144 233 377 610 987 1597 2584 4181 6765 10946 17711 "
     ]
    }
   ],
   "source": [
    "n=int(input(\"enter a number\"))\n",
    "a=0\n",
    "b=1\n",
    "for i in range(n):\n",
    "  print(a, end=\" \")\n",
    "  c=a+b\n",
    "  a=b\n",
    "  b=c"
   ]
  },
  {
   "cell_type": "markdown",
   "id": "08522e12",
   "metadata": {},
   "source": [
    "prime numbers"
   ]
  },
  {
   "cell_type": "code",
   "execution_count": 4,
   "id": "2cb6df69",
   "metadata": {},
   "outputs": [
    {
     "name": "stdout",
     "output_type": "stream",
     "text": [
      "23\n",
      "it is a prime number\n"
     ]
    }
   ],
   "source": [
    "n=int(input(\"enter a number\"))\n",
    "print(n)\n",
    "if n>1:\n",
    "  for i in range(2,n):\n",
    "    if n % i==0:\n",
    "      print(\"ït is not a prime number\")\n",
    "      break\n",
    "  else:\n",
    "      print(\"it is a prime number\")\n",
    "else:      \n",
    " print(\"it is not a prime\")"
   ]
  },
  {
   "cell_type": "markdown",
   "id": "7d92f3e0",
   "metadata": {},
   "source": [
    "factorial using for loop"
   ]
  },
  {
   "cell_type": "code",
   "execution_count": 5,
   "id": "9b32e431",
   "metadata": {},
   "outputs": [
    {
     "name": "stdout",
     "output_type": "stream",
     "text": [
      "the factorial of 5 is 120\n"
     ]
    }
   ],
   "source": [
    "n=int(input(\"enter a number\"))\n",
    "fact=1\n",
    "for i in range(1,n+1):\n",
    "  fact=fact*i\n",
    "print(f\"the factorial of {n} is {fact}\")"
   ]
  },
  {
   "cell_type": "markdown",
   "id": "6923c5dd",
   "metadata": {},
   "source": [
    "WAP that takes sentence as input and counts how many letters and digits it contains"
   ]
  },
  {
   "cell_type": "code",
   "execution_count": 6,
   "id": "22f89333",
   "metadata": {},
   "outputs": [
    {
     "name": "stdout",
     "output_type": "stream",
     "text": [
      "sunita233\n",
      "number of letters:6\n",
      "numbers of digits:3\n"
     ]
    }
   ],
   "source": [
    "sentence=input(\"enter a sentence\")\n",
    "print(sentence)\n",
    "letters=0\n",
    "digits=0\n",
    "for char in sentence:\n",
    "  if char.isalpha():\n",
    "    letters+=1\n",
    "  elif char.isdigit():\n",
    "    digits+=1\n",
    "print(f\"number of letters:{letters}\")\n",
    "print(f\"numbers of digits:{digits}\")"
   ]
  },
  {
   "cell_type": "code",
   "execution_count": 1,
   "id": "dd6e6ea5",
   "metadata": {},
   "outputs": [
    {
     "name": "stdout",
     "output_type": "stream",
     "text": [
      "5\n",
      "5 is an odd number\n",
      "4 is an even number\n",
      "3 is an odd number\n",
      "2 is an even number\n",
      "1 is an odd number\n"
     ]
    }
   ],
   "source": [
    "n = int(input(\"Enter a number: \"))\n",
    "print(n)\n",
    "while n > 0:\n",
    "    if n % 2 == 0:\n",
    "        print(n, \"is an even number\")\n",
    "    else:\n",
    "        print(n, \"is an odd number\")\n",
    "    n = n - 1  "
   ]
  },
  {
   "cell_type": "markdown",
   "id": "5fa101e5",
   "metadata": {},
   "source": [
    "WAP a python to find the sum of digit of a number using while loop"
   ]
  },
  {
   "cell_type": "code",
   "execution_count": null,
   "id": "82303308",
   "metadata": {},
   "outputs": [
    {
     "name": "stdout",
     "output_type": "stream",
     "text": [
      "sum of digit 6\n"
     ]
    }
   ],
   "source": [
    "n=int(input(\"enter the number of digits\"))#1+2+3=6\n",
    "total=0\n",
    "while n>0:\n",
    "  digit=n%10#123%10=3\n",
    "  total=total+digit #0+3=3\n",
    "  n//=10 #123//10=12(quotient//)\n",
    "print(\"sum of digit\",total)"
   ]
  },
  {
   "cell_type": "markdown",
   "id": "bb8038ff",
   "metadata": {},
   "source": [
    "reverse using while loop"
   ]
  },
  {
   "cell_type": "code",
   "execution_count": 10,
   "id": "3c3684fc",
   "metadata": {},
   "outputs": [
    {
     "name": "stdout",
     "output_type": "stream",
     "text": [
      "number is 123\n",
      "reversed number is: 321\n"
     ]
    }
   ],
   "source": [
    "n=int(input(\"enter a number\"))\n",
    "print(\"number is\",n)\n",
    "reverse=0\n",
    "while n>0:\n",
    "  reverse=reverse*10+n%10\n",
    "  n//=10\n",
    "print(\"reversed number is:\",reverse)"
   ]
  }
 ],
 "metadata": {
  "kernelspec": {
   "display_name": "name",
   "language": "python",
   "name": "python3"
  },
  "language_info": {
   "codemirror_mode": {
    "name": "ipython",
    "version": 3
   },
   "file_extension": ".py",
   "mimetype": "text/x-python",
   "name": "python",
   "nbconvert_exporter": "python",
   "pygments_lexer": "ipython3",
   "version": "3.13.5"
  }
 },
 "nbformat": 4,
 "nbformat_minor": 5
}
