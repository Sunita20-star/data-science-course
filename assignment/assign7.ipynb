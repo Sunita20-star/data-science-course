{
 "cells": [
  {
   "cell_type": "code",
   "execution_count": null,
   "id": "007274eb",
   "metadata": {},
   "outputs": [
    {
     "name": "stdout",
     "output_type": "stream",
     "text": [
      "Original Array:\n",
      " [[[ 13   1  65  95  79]\n",
      "  [ 14  19  46  26  64]\n",
      "  [ 93  18  60  68  48]\n",
      "  [ 43   7  24  92  46]]\n",
      "\n",
      " [[ 58  25  69  56  54]\n",
      "  [ 59  18  27  86  45]\n",
      "  [ 81  50   3 100  32]\n",
      "  [ 31  79  79  27   2]]\n",
      "\n",
      " [[ 70  82  44  35  74]\n",
      "  [ 56  55  50  45  68]\n",
      "  [ 68  29  33  29  49]\n",
      "  [  3   9  55  31  90]]]\n",
      "\n",
      "Array after replacing elements > mean ( 47.95 ) with 0:\n",
      " [[[13  1  0  0  0]\n",
      "  [14 19 46 26  0]\n",
      "  [ 0 18  0  0  0]\n",
      "  [43  7 24  0 46]]\n",
      "\n",
      " [[ 0 25  0  0  0]\n",
      "  [ 0 18 27  0 45]\n",
      "  [ 0  0  3  0 32]\n",
      "  [31  0  0 27  2]]\n",
      "\n",
      " [[ 0  0 44 35  0]\n",
      "  [ 0  0  0 45  0]\n",
      "  [ 0 29 33 29  0]\n",
      "  [ 3  9  0 31  0]]]\n",
      "\n",
      "Sum along axis=1:\n",
      " [[ 70  45  70  26  46]\n",
      " [ 31  43  30  27  79]\n",
      " [  3  38  77 140   0]]\n",
      "\n",
      "Extracted first and last columns:\n",
      " [[[13  0]\n",
      "  [14  0]\n",
      "  [ 0  0]\n",
      "  [43 46]]\n",
      "\n",
      " [[ 0  0]\n",
      "  [ 0 45]\n",
      "  [ 0 32]\n",
      "  [31  2]]\n",
      "\n",
      " [[ 0  0]\n",
      "  [ 0  0]\n",
      "  [ 0  0]\n",
      "  [ 3  0]]]\n"
     ]
    }
   ],
   "source": [
    "import numpy as np\n",
    "arr = np.random.randint(1, 101, size=(3, 4, 5))\n",
    "print(\"Original Array:\\n\", arr)\n",
    "mean=arr.mean()\n",
    "arr[arr > mean] = 0\n",
    "print(\"\\nArray after replacing elements > mean (\", mean, \") with 0:\\n\", arr)\n",
    "sum_axis1 = np.sum(arr, axis=1)\n",
    "print(\"\\nSum along axis=1:\\n\", sum_axis1)\n",
    "extracted_columns = arr[:, :, [0, -1]]\n",
    "print(\"\\nExtracted first and last columns:\\n\", extracted_columns)\n"
   ]
  }
 ],
 "metadata": {
  "kernelspec": {
   "display_name": "name",
   "language": "python",
   "name": "python3"
  },
  "language_info": {
   "codemirror_mode": {
    "name": "ipython",
    "version": 3
   },
   "file_extension": ".py",
   "mimetype": "text/x-python",
   "name": "python",
   "nbconvert_exporter": "python",
   "pygments_lexer": "ipython3",
   "version": "3.13.5"
  }
 },
 "nbformat": 4,
 "nbformat_minor": 5
}
