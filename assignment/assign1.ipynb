{
 "cells": [
  {
   "cell_type": "markdown",
   "id": "98865d78",
   "metadata": {},
   "source": [
    "creates a new list with the same items"
   ]
  },
  {
   "cell_type": "code",
   "execution_count": 8,
   "id": "d1c50001",
   "metadata": {},
   "outputs": [
    {
     "name": "stdout",
     "output_type": "stream",
     "text": [
      "['paru', 'sornim', 'hemant']\n"
     ]
    }
   ],
   "source": [
    "num=[\"paru\",\"sornim\",\"hemant\"]\n",
    "num1=num.copy()\n",
    "print(num1)"
   ]
  },
  {
   "cell_type": "code",
   "execution_count": 9,
   "id": "ddc825dc",
   "metadata": {},
   "outputs": [
    {
     "name": "stdout",
     "output_type": "stream",
     "text": [
      "['hemant', 'sornim', 'paru']\n"
     ]
    }
   ],
   "source": [
    "num=[\"paru\",\"sornim\",\"hemant\"]\n",
    "num.reverse()\n",
    "print(num)"
   ]
  },
  {
   "cell_type": "markdown",
   "id": "a9a059b2",
   "metadata": {},
   "source": [
    "to sort in descending order"
   ]
  },
  {
   "cell_type": "code",
   "execution_count": 10,
   "id": "8a5f240e",
   "metadata": {},
   "outputs": [
    {
     "name": "stdout",
     "output_type": "stream",
     "text": [
      "['sam', 'rita', 'ram', 'hari', 'gita']\n"
     ]
    }
   ],
   "source": [
    "students=[\"sam\",\"rita\",\"gita\",\"ram\",\"hari\"]\n",
    "students.sort(reverse=True)\n",
    "print(students)"
   ]
  },
  {
   "cell_type": "markdown",
   "id": "72503275",
   "metadata": {},
   "source": [
    "to sort in ascending order"
   ]
  },
  {
   "cell_type": "code",
   "execution_count": 11,
   "id": "20db08ba",
   "metadata": {},
   "outputs": [
    {
     "name": "stdout",
     "output_type": "stream",
     "text": [
      "['gita', 'hari', 'ram', 'rita', 'sam']\n"
     ]
    }
   ],
   "source": [
    "students=[\"sam\",\"rita\",\"gita\",\"ram\",\"hari\"]\n",
    "students.sort()\n",
    "print(students)"
   ]
  },
  {
   "cell_type": "markdown",
   "id": "3fec1ae0",
   "metadata": {},
   "source": [
    "removes all the items but keeps the list"
   ]
  },
  {
   "cell_type": "code",
   "execution_count": 12,
   "id": "454d8a50",
   "metadata": {},
   "outputs": [
    {
     "name": "stdout",
     "output_type": "stream",
     "text": [
      "[]\n"
     ]
    }
   ],
   "source": [
    "num=[\"paru\",\"sornim\",\"hemant\"]\n",
    "num.clear()\n",
    "print(num)"
   ]
  },
  {
   "cell_type": "markdown",
   "id": "1bf19885",
   "metadata": {},
   "source": [
    "remove=removes a specific item by its value\n",
    "pop=removes an item by its index"
   ]
  },
  {
   "cell_type": "code",
   "execution_count": 13,
   "id": "66f77bb1",
   "metadata": {},
   "outputs": [
    {
     "name": "stdout",
     "output_type": "stream",
     "text": [
      "['sam', 'rita', 'ram', 'hari']\n"
     ]
    }
   ],
   "source": [
    "students=[\"sam\",\"rita\",\"gita\",\"ram\",\"hari\"]\n",
    "students.remove(\"gita\")\n",
    "print(students)"
   ]
  },
  {
   "cell_type": "markdown",
   "id": "fdf5f09c",
   "metadata": {},
   "source": [
    "extend=It helps you add many items to the end of a list at once"
   ]
  },
  {
   "cell_type": "code",
   "execution_count": 14,
   "id": "50aa2baf",
   "metadata": {},
   "outputs": [
    {
     "name": "stdout",
     "output_type": "stream",
     "text": [
      "['sam', 'rita', 'gita', 'ram', 'hari', 'paru', 'sornim', 'hemant']\n"
     ]
    }
   ],
   "source": [
    "num=[\"paru\",\"sornim\",\"hemant\"]\n",
    "students=[\"sam\",\"rita\",\"gita\",\"ram\",\"hari\"]\n",
    "students.extend(num)\n",
    "print(students)"
   ]
  }
 ],
 "metadata": {
  "kernelspec": {
   "display_name": "name",
   "language": "python",
   "name": "python3"
  },
  "language_info": {
   "codemirror_mode": {
    "name": "ipython",
    "version": 3
   },
   "file_extension": ".py",
   "mimetype": "text/x-python",
   "name": "python",
   "nbconvert_exporter": "python",
   "pygments_lexer": "ipython3",
   "version": "3.13.5"
  }
 },
 "nbformat": 4,
 "nbformat_minor": 5
}
