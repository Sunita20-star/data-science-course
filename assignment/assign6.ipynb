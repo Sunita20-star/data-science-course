{
 "cells": [
  {
   "cell_type": "code",
   "execution_count": null,
   "id": "178b8d6b",
   "metadata": {},
   "outputs": [
    {
     "name": "stdout",
     "output_type": "stream",
     "text": [
      "[0. 0. 0. 0. 0.]\n"
     ]
    }
   ],
   "source": [
    "import numpy as np\n",
    "arr_zeros = np.zeros(5)\n",
    "print(arr_zeros)\n",
    "#creates 1d array of 5 elements all initialized to 0"
   ]
  },
  {
   "cell_type": "code",
   "execution_count": 3,
   "id": "0cf1a4bd",
   "metadata": {},
   "outputs": [
    {
     "name": "stdout",
     "output_type": "stream",
     "text": [
      "[2.12199579e-314 4.67296746e-307 5.86949987e-321 8.93360228e-312]\n"
     ]
    }
   ],
   "source": [
    "arr_empty = np.empty(4)\n",
    "print(arr_empty)"
   ]
  },
  {
   "cell_type": "markdown",
   "id": "b1ac4412",
   "metadata": {},
   "source": []
  },
  {
   "cell_type": "code",
   "execution_count": 4,
   "id": "8e2fde80",
   "metadata": {},
   "outputs": [
    {
     "name": "stdout",
     "output_type": "stream",
     "text": [
      "10\n",
      "50\n"
     ]
    }
   ],
   "source": [
    "arr = np.array([10, 20, 30, 40, 50])\n",
    "print(arr[0])   \n",
    "print(arr[-1])  "
   ]
  },
  {
   "cell_type": "code",
   "execution_count": null,
   "id": "7834266c",
   "metadata": {},
   "outputs": [],
   "source": [
    "arr = np.array([0, 2, 3, 4, 5])\n",
    "print(arr[1:4])  \n",
    "print(arr[:3])   \n",
    "print(arr[2:])   \n",
    "print(arr[:])   \n",
    "print(arr[::2])"
   ]
  },
  {
   "cell_type": "code",
   "execution_count": 5,
   "id": "5bcd5470",
   "metadata": {},
   "outputs": [
    {
     "name": "stdout",
     "output_type": "stream",
     "text": [
      "[11 22 33 44 55]\n",
      "[ 9 18 27 36 45]\n",
      "[ 10  40  90 160 250]\n",
      "[10. 10. 10. 10. 10.]\n",
      "[ 1  4  9 16 25]\n",
      "[0 0 0 0 0]\n"
     ]
    }
   ],
   "source": [
    "arr1 = np.array([1, 2, 3, 4, 5])\n",
    "arr2 = np.array([10, 20, 30, 40, 50])\n",
    "print(arr1 + arr2)\n",
    "print(arr2 - arr1)\n",
    "print(arr1 * arr2)\n",
    "print(arr2 / arr1)\n",
    "print(arr1 ** 2)\n",
    "print(arr2 % arr1)"
   ]
  },
  {
   "cell_type": "code",
   "execution_count": 6,
   "id": "b7c70d88",
   "metadata": {},
   "outputs": [
    {
     "name": "stdout",
     "output_type": "stream",
     "text": [
      "[False  True False]\n",
      "[ True False False]\n",
      "[False False  True]\n"
     ]
    }
   ],
   "source": [
    "arr1 = np.array([10, 20, 30])\n",
    "arr2 = np.array([5, 20, 35])\n",
    "print(arr1 == arr2)\n",
    "print(arr1 > arr2)\n",
    "print(arr1 < arr2)"
   ]
  },
  {
   "cell_type": "code",
   "execution_count": 7,
   "id": "746d0273",
   "metadata": {},
   "outputs": [
    {
     "name": "stdout",
     "output_type": "stream",
     "text": [
      "Sum: 15\n",
      "Mean: 3.0\n",
      "Standard Deviation: 1.4142135623730951\n",
      "Minimum: 1\n",
      "Maximum: 5\n",
      "Product: 120\n"
     ]
    }
   ],
   "source": [
    "arr = np.array([1, 2, 3, 4, 5])\n",
    "print(\"Sum:\", arr.sum())\n",
    "print(\"Mean:\", arr.mean())\n",
    "print(\"Standard Deviation:\", arr.std())\n",
    "print(\"Minimum:\", arr.min())\n",
    "print(\"Maximum:\", arr.max())\n",
    "print(\"Product:\", arr.prod())"
   ]
  },
  {
   "cell_type": "markdown",
   "id": "5051f1c7",
   "metadata": {},
   "source": [
    "Reshaping - changes the shape of an array ie 1D array can be reshaped into 2D array"
   ]
  },
  {
   "cell_type": "code",
   "execution_count": 12,
   "id": "5698457d",
   "metadata": {},
   "outputs": [
    {
     "name": "stdout",
     "output_type": "stream",
     "text": [
      "[[1 2 3 4]]\n"
     ]
    }
   ],
   "source": [
    "arr_1d = np.array([1, 2, 3, 4])\n",
    "reshape_row = arr_1d.reshape(1, 4)\n",
    "print( reshape_row)"
   ]
  },
  {
   "cell_type": "code",
   "execution_count": 13,
   "id": "7e707670",
   "metadata": {},
   "outputs": [
    {
     "name": "stdout",
     "output_type": "stream",
     "text": [
      "[[1]\n",
      " [2]\n",
      " [3]\n",
      " [4]]\n"
     ]
    }
   ],
   "source": [
    "arr_1d = np.array([1, 2, 3, 4])\n",
    "reshape_col = arr_1d.reshape(4,1)\n",
    "print( reshape_col)"
   ]
  },
  {
   "cell_type": "code",
   "execution_count": 16,
   "id": "edc96bdc",
   "metadata": {},
   "outputs": [
    {
     "name": "stdout",
     "output_type": "stream",
     "text": [
      "[[1 2 3]\n",
      " [4 5 6]]\n"
     ]
    }
   ],
   "source": [
    "arr= np.arange(1, 7) \n",
    "matrix = arr.reshape(2, 3) \n",
    "print(matrix)"
   ]
  }
 ],
 "metadata": {
  "kernelspec": {
   "display_name": "name",
   "language": "python",
   "name": "python3"
  },
  "language_info": {
   "codemirror_mode": {
    "name": "ipython",
    "version": 3
   },
   "file_extension": ".py",
   "mimetype": "text/x-python",
   "name": "python",
   "nbconvert_exporter": "python",
   "pygments_lexer": "ipython3",
   "version": "3.13.5"
  }
 },
 "nbformat": 4,
 "nbformat_minor": 5
}
