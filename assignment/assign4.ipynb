{
 "cells": [
  {
   "cell_type": "markdown",
   "id": "d0743ee0",
   "metadata": {},
   "source": [
    "write a python program that takes an integer between  0 to 999 fromn the user and prints the number in words."
   ]
  },
  {
   "cell_type": "code",
   "execution_count": null,
   "id": "dc7617f9",
   "metadata": {},
   "outputs": [
    {
     "name": "stdout",
     "output_type": "stream",
     "text": [
      "In words: seven hundred and eighty-nine\n"
     ]
    }
   ],
   "source": [
    "ones = [\"zero\", \"one\", \"two\", \"three\", \"four\", \"five\", \"six\", \"seven\", \"eight\", \"nine\"]\n",
    "teens = [\"ten\", \"eleven\", \"twelve\", \"thirteen\", \"fourteen\", \"fifteen\",\n",
    "         \"sixteen\", \"seventeen\", \"eighteen\", \"nineteen\"]\n",
    "tens = [\"\", \"\", \"twenty\", \"thirty\", \"forty\", \"fifty\",\n",
    "        \"sixty\", \"seventy\", \"eighty\", \"ninety\"]\n",
    "\n",
    "n = int(input(\"Enter a number (0-999): \"))\n",
    "\n",
    "if n < 0 or n > 999:\n",
    "    print(\"Out of range!\")\n",
    "elif n == 0:\n",
    "    print(\"In words: zero\")\n",
    "else:\n",
    "    words = \"\"\n",
    "    if n >= 100:\n",
    "        words += ones[n // 100] + \" hundred\"\n",
    "        n %= 100\n",
    "        if n != 0:\n",
    "            words += \" and \"\n",
    "    if 10 <= n <= 19:\n",
    "        words += teens[n - 10]\n",
    "    else:\n",
    "        if n >= 20:\n",
    "            words += tens[n // 10]\n",
    "            if n % 10 != 0:\n",
    "                words += \"-\" + ones[n % 10]\n",
    "        elif n > 0:\n",
    "            words += ones[n]\n",
    "    print(\"In words:\", words)\n"
   ]
  },
  {
   "cell_type": "markdown",
   "id": "ce2d4fc9",
   "metadata": {},
   "source": [
    "rock,paper,scissors"
   ]
  },
  {
   "cell_type": "markdown",
   "id": "e517472d",
   "metadata": {},
   "source": [
    "calender where user enter  a year"
   ]
  },
  {
   "cell_type": "code",
   "execution_count": 6,
   "id": "19053053",
   "metadata": {},
   "outputs": [
    {
     "name": "stdout",
     "output_type": "stream",
     "text": [
      "you chose: paper\n",
      "system chose: rock\n",
      "you win!\n"
     ]
    }
   ],
   "source": [
    "import random\n",
    "user=input(\"choose rock,paper,or scissors\").lower()\n",
    "print(\"you chose:\",user)\n",
    "system=random.choice(['rock','paper','scissors'])\n",
    "print(\"system chose:\",system)\n",
    "if user==system:\n",
    "  print(\"its a tie\")\n",
    "elif(user==\"rock\" and system==\"scissors\") or (user==\"paper\"and system==\"rock\") or (user==\"scissors\"and system==\"paper\"):\n",
    "      print(\"you win!\")\n",
    "else:\n",
    "  print(\"you lose!\")  "
   ]
  },
  {
   "cell_type": "code",
   "execution_count": 7,
   "id": "7027685a",
   "metadata": {},
   "outputs": [
    {
     "name": "stdout",
     "output_type": "stream",
     "text": [
      "Canendar of the year 2025\n",
      "                                  2025\n",
      "\n",
      "      January                   February                   March\n",
      "Mo Tu We Th Fr Sa Su      Mo Tu We Th Fr Sa Su      Mo Tu We Th Fr Sa Su\n",
      "       1  2  3  4  5                      1  2                      1  2\n",
      " 6  7  8  9 10 11 12       3  4  5  6  7  8  9       3  4  5  6  7  8  9\n",
      "13 14 15 16 17 18 19      10 11 12 13 14 15 16      10 11 12 13 14 15 16\n",
      "20 21 22 23 24 25 26      17 18 19 20 21 22 23      17 18 19 20 21 22 23\n",
      "27 28 29 30 31            24 25 26 27 28            24 25 26 27 28 29 30\n",
      "                                                    31\n",
      "\n",
      "       April                      May                       June\n",
      "Mo Tu We Th Fr Sa Su      Mo Tu We Th Fr Sa Su      Mo Tu We Th Fr Sa Su\n",
      "    1  2  3  4  5  6                1  2  3  4                         1\n",
      " 7  8  9 10 11 12 13       5  6  7  8  9 10 11       2  3  4  5  6  7  8\n",
      "14 15 16 17 18 19 20      12 13 14 15 16 17 18       9 10 11 12 13 14 15\n",
      "21 22 23 24 25 26 27      19 20 21 22 23 24 25      16 17 18 19 20 21 22\n",
      "28 29 30                  26 27 28 29 30 31         23 24 25 26 27 28 29\n",
      "                                                    30\n",
      "\n",
      "        July                     August                  September\n",
      "Mo Tu We Th Fr Sa Su      Mo Tu We Th Fr Sa Su      Mo Tu We Th Fr Sa Su\n",
      "    1  2  3  4  5  6                   1  2  3       1  2  3  4  5  6  7\n",
      " 7  8  9 10 11 12 13       4  5  6  7  8  9 10       8  9 10 11 12 13 14\n",
      "14 15 16 17 18 19 20      11 12 13 14 15 16 17      15 16 17 18 19 20 21\n",
      "21 22 23 24 25 26 27      18 19 20 21 22 23 24      22 23 24 25 26 27 28\n",
      "28 29 30 31               25 26 27 28 29 30 31      29 30\n",
      "\n",
      "      October                   November                  December\n",
      "Mo Tu We Th Fr Sa Su      Mo Tu We Th Fr Sa Su      Mo Tu We Th Fr Sa Su\n",
      "       1  2  3  4  5                      1  2       1  2  3  4  5  6  7\n",
      " 6  7  8  9 10 11 12       3  4  5  6  7  8  9       8  9 10 11 12 13 14\n",
      "13 14 15 16 17 18 19      10 11 12 13 14 15 16      15 16 17 18 19 20 21\n",
      "20 21 22 23 24 25 26      17 18 19 20 21 22 23      22 23 24 25 26 27 28\n",
      "27 28 29 30 31            24 25 26 27 28 29 30      29 30 31\n",
      "\n"
     ]
    }
   ],
   "source": [
    "import calendar\n",
    "year=int(input(\"enter a year\"))\n",
    "print(\"Canendar of the year\",year)\n",
    "print(calendar.calendar(year))"
   ]
  },
  {
   "cell_type": "code",
   "execution_count": 9,
   "id": "a26fb712",
   "metadata": {},
   "outputs": [
    {
     "name": "stdout",
     "output_type": "stream",
     "text": [
      "year 2024\n",
      "month 5\n",
      "      May 2024\n",
      "Mo Tu We Th Fr Sa Su\n",
      "       1  2  3  4  5\n",
      " 6  7  8  9 10 11 12\n",
      "13 14 15 16 17 18 19\n",
      "20 21 22 23 24 25 26\n",
      "27 28 29 30 31\n",
      "\n"
     ]
    }
   ],
   "source": [
    "import calendar\n",
    "year=int(input(\"enter a year\"))\n",
    "print(\"year\",year)\n",
    "month=int(input(\"enter a month\"))\n",
    "print(\"month\",month)\n",
    "print(calendar.month(year,month))"
   ]
  },
  {
   "cell_type": "markdown",
   "id": "16d8bc67",
   "metadata": {},
   "source": [
    "functions"
   ]
  },
  {
   "cell_type": "code",
   "execution_count": 1,
   "id": "ee09c6f5",
   "metadata": {},
   "outputs": [
    {
     "name": "stdout",
     "output_type": "stream",
     "text": [
      "hello\n"
     ]
    }
   ],
   "source": [
    "def my_function():\n",
    "  print(\"hello\")\n",
    "my_function() #function calling"
   ]
  },
  {
   "cell_type": "code",
   "execution_count": 2,
   "id": "f1ba60fe",
   "metadata": {},
   "outputs": [
    {
     "data": {
      "text/plain": [
       "7"
      ]
     },
     "execution_count": 2,
     "metadata": {},
     "output_type": "execute_result"
    }
   ],
   "source": [
    "def add(a,b):\n",
    "  return a+b\n",
    "add(3,4)"
   ]
  },
  {
   "cell_type": "code",
   "execution_count": null,
   "id": "45ca038a",
   "metadata": {},
   "outputs": [
    {
     "data": {
      "text/plain": [
       "8"
      ]
     },
     "execution_count": 5,
     "metadata": {},
     "output_type": "execute_result"
    }
   ],
   "source": [
    "def add(a=2,b=6): #keywords arguments\n",
    "  return a+b\n",
    "add()"
   ]
  },
  {
   "cell_type": "code",
   "execution_count": 7,
   "id": "3fd9d6f9",
   "metadata": {},
   "outputs": [
    {
     "name": "stdout",
     "output_type": "stream",
     "text": [
      "number1: 2\n",
      "number2: 4\n",
      "6\n"
     ]
    }
   ],
   "source": [
    "def add(n1,n2):\n",
    "  print(\"number1:\",n1)\n",
    "  print(\"number2:\",n2)\n",
    "  addtion=n1+n2\n",
    "  return addtion \n",
    "res=add(2,4)\n",
    "print(res)"
   ]
  },
  {
   "cell_type": "markdown",
   "id": "870d12fa",
   "metadata": {},
   "source": [
    "positional argument"
   ]
  },
  {
   "cell_type": "code",
   "execution_count": 13,
   "id": "12ffb51e",
   "metadata": {},
   "outputs": [
    {
     "name": "stdout",
     "output_type": "stream",
     "text": [
      "20 amrita\n"
     ]
    }
   ],
   "source": [
    "def positional(name,age):\n",
    "  print(name,age)\n",
    "positional(\"20\",\"amrita\")"
   ]
  },
  {
   "cell_type": "markdown",
   "id": "5d6395ae",
   "metadata": {},
   "source": [
    "keyword argument"
   ]
  },
  {
   "cell_type": "code",
   "execution_count": 12,
   "id": "a55729de",
   "metadata": {},
   "outputs": [
    {
     "name": "stdout",
     "output_type": "stream",
     "text": [
      "the value of a: 2\n",
      "the value of b: 5\n"
     ]
    }
   ],
   "source": [
    "def keyword(a,b):\n",
    "  print(\"the value of a:\",a)\n",
    "  print(\"the value of b:\",b)\n",
    "keyword(a=2,b=5)"
   ]
  },
  {
   "cell_type": "code",
   "execution_count": 14,
   "id": "2daf3781",
   "metadata": {},
   "outputs": [
    {
     "name": "stdout",
     "output_type": "stream",
     "text": [
      "even numbers are [2, 4, 56, 8]\n"
     ]
    }
   ],
   "source": [
    "def even(list):\n",
    "  even_num=[]\n",
    "  for n in list:\n",
    "    if n%2==0:\n",
    "      even_num.append(n)\n",
    "  return even_num\n",
    "even_num=even([2,3,4,56,57,7,8,67])\n",
    "print(\"even numbers are\",even_num)\n",
    "  "
   ]
  },
  {
   "cell_type": "code",
   "execution_count": 15,
   "id": "1765d1a1",
   "metadata": {},
   "outputs": [
    {
     "name": "stdout",
     "output_type": "stream",
     "text": [
      "numbers: (10, 20, 30, 40, 50)\n",
      "total is 150\n",
      "numbers: (1, 2, 3, 4, 5, 6, 7, 8, 9, 10)\n",
      "total is 55\n"
     ]
    }
   ],
   "source": [
    "def add(*num):\n",
    "  print(\"numbers:\",num)\n",
    "  total=sum(num)\n",
    "  print(\"total is\",total)\n",
    "add(10,20,30,40,50)\n",
    "add(1,2,3,4,5,6,7,8,9,10)"
   ]
  },
  {
   "cell_type": "code",
   "execution_count": 2,
   "id": "f83162f6",
   "metadata": {},
   "outputs": [
    {
     "name": "stdout",
     "output_type": "stream",
     "text": [
      "choosen number is: 2\n",
      "monday\n"
     ]
    }
   ],
   "source": [
    "day=int(input('enter number of day'))\n",
    "print('choosen number is:',day)\n",
    "match day:\n",
    "  case 1:\n",
    "    print('sunday')\n",
    "  case 2:\n",
    "    print('monday')  \n",
    "  case 3:\n",
    "    print('tuesday')  \n",
    "  case 4:\n",
    "    print('wednesday')  \n",
    "  case 5:\n",
    "    print('thursday')  \n",
    "  case 6:\n",
    "    print('friday')  \n",
    "  case 7:\n",
    "    print('saturday') \n",
    "  case _:\n",
    "    print('invalid input')  \n",
    "   \n",
    "  "
   ]
  },
  {
   "cell_type": "code",
   "execution_count": null,
   "id": "7c2c8783",
   "metadata": {},
   "outputs": [
    {
     "name": "stdout",
     "output_type": "stream",
     "text": [
      "\n",
      "1:Add  2:Subtract  3:Multiply  4:Divide  5:Exit\n",
      "Result: -11.0\n",
      "\n",
      "1:Add  2:Subtract  3:Multiply  4:Divide  5:Exit\n",
      "exit\n"
     ]
    }
   ],
   "source": [
    "def calc(choice, a, b):\n",
    "    if choice == 1:\n",
    "        return a + b\n",
    "    elif choice == 2:\n",
    "        return a - b\n",
    "    elif choice == 3:\n",
    "        return a * b\n",
    "    elif choice == 4:\n",
    "        return a / b if b != 0 else \"Cannot divide by zero\"\n",
    "    else:\n",
    "        return \"Invalid choice\"\n",
    "while True:\n",
    "    print(\"\\n 1:Add  2:Subtract  3:Multiply  4:Divide  5:Exit\")\n",
    "    ch = int(input(\"Enter choice: \"))\n",
    "    if ch == 5:\n",
    "        print(\"exit\")\n",
    "        break\n",
    "    x = float(input(\"Enter 1st number: \"))\n",
    "    y = float(input(\"Enter 2nd number: \"))\n",
    "    print(\"Result:\", calc(ch, x, y))\n"
   ]
  },
  {
   "cell_type": "code",
   "execution_count": null,
   "id": "3a868766",
   "metadata": {},
   "outputs": [],
   "source": [
    "def calculate(choice, a, b):\n",
    "    match choice:\n",
    "        case 1:\n",
    "            return a + b\n",
    "        case 2:\n",
    "            return a - b\n",
    "        case 3:\n",
    "            return a * b\n",
    "        case 4:\n",
    "            return a / b if b != 0 else \"Cannot divide by zero\"\n",
    "        case _:\n",
    "            return \"Invalid choice\"\n",
    "while True:\n",
    "    print(\"\\n 1:Add  2:Subtract  3:Multiply  4:Divide  5:Exit\")\n",
    "    ch = int(input(\"Enter choice: \"))\n",
    "    if ch == 5:\n",
    "        print(\"Exit.\")\n",
    "        break\n",
    "    x = float(input(\"Enter first number: \"))\n",
    "    y = float(input(\"Enter second number: \"))\n",
    "    print(\"Result:\", calculate(ch, x, y))\n"
   ]
  }
 ],
 "metadata": {
  "kernelspec": {
   "display_name": "name",
   "language": "python",
   "name": "python3"
  },
  "language_info": {
   "codemirror_mode": {
    "name": "ipython",
    "version": 3
   },
   "file_extension": ".py",
   "mimetype": "text/x-python",
   "name": "python",
   "nbconvert_exporter": "python",
   "pygments_lexer": "ipython3",
   "version": "3.13.5"
  }
 },
 "nbformat": 4,
 "nbformat_minor": 5
}
