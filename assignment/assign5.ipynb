{
 "cells": [
  {
   "cell_type": "code",
   "execution_count": 1,
   "id": "5202cfd2",
   "metadata": {},
   "outputs": [
    {
     "name": "stdout",
     "output_type": "stream",
     "text": [
      "sunita: Marks: [78.0, 68.0, 88.0] \n",
      " Average: 78.0 \n",
      " Grade: C\n",
      "anita: Marks: [67.0, 98.0, 77.0] \n",
      " Average: 80.67 \n",
      " Grade: B\n",
      "namrata: Marks: [89.0, 90.0, 98.0] \n",
      " Average: 92.33 \n",
      " Grade: A\n"
     ]
    }
   ],
   "source": [
    "\n",
    "num = int(input(\"Enter number of students: \"))\n",
    "\n",
    "for i in range(num):\n",
    "    name = input(\"\\nEnter student name: \")\n",
    "    m1 = float(input(\"Enter marks for subject 1: \"))\n",
    "    m2 = float(input(\"Enter marks for subject 2: \"))\n",
    "    m3 = float(input(\"Enter marks for subject 3: \"))\n",
    "    \n",
    "    avg = (m1 + m2 + m3) / 3\n",
    "\n",
    "    if avg >= 90:\n",
    "        grade = 'A'\n",
    "    elif avg >= 80:\n",
    "        grade = 'B'\n",
    "    elif avg >= 70:\n",
    "        grade = 'C'\n",
    "    elif avg >= 60:\n",
    "        grade = 'D'\n",
    "    else:\n",
    "        grade = 'F'\n",
    "\n",
    "    print(f\"{name}: Marks: [{m1}, {m2}, {m3}] \\n Average: {round(avg, 2)} \\n Grade: {grade}\")\n"
   ]
  },
  {
   "cell_type": "code",
   "execution_count": null,
   "id": "e7ec6b19",
   "metadata": {},
   "outputs": [],
   "source": []
  },
  {
   "cell_type": "code",
   "execution_count": 3,
   "id": "ebcf1c69",
   "metadata": {},
   "outputs": [
    {
     "name": "stdout",
     "output_type": "stream",
     "text": [
      "sunita: Marks: [88.0, 99.0, 89.0] \n",
      " Average: 92.0 \n",
      " Grade: A\n",
      "anita: Marks: [78.0, 89.0, 99.0] \n",
      " Average: 88.67 \n",
      " Grade: B\n"
     ]
    }
   ],
   "source": [
    "\n",
    "def average(m1, m2, m3):\n",
    "    return (m1 + m2 + m3) / 3\n",
    "def get_grade(avg):\n",
    "    if avg >= 90:\n",
    "        return 'A'\n",
    "    elif avg >= 80:\n",
    "        return 'B'\n",
    "    elif avg >= 70:\n",
    "        return 'C'\n",
    "    elif avg >= 60:\n",
    "        return 'D'\n",
    "    else:\n",
    "        return 'F'\n",
    "num = int(input(\"Enter number of students: \"))\n",
    "for i in range(num):\n",
    "    name = input(\"\\nEnter student name: \")\n",
    "    m1 = float(input(\"Enter marks for subject 1: \"))\n",
    "    m2 = float(input(\"Enter marks for subject 2: \"))\n",
    "    m3 = float(input(\"Enter marks for subject 3: \"))\n",
    "\n",
    "    avg =average(m1, m2, m3)\n",
    "    grade = get_grade(avg)\n",
    "\n",
    "    print(f\"{name}: Marks: [{m1}, {m2}, {m3}] \\n Average: {round(avg, 2)} \\n Grade: {grade}\")\n"
   ]
  },
  {
   "cell_type": "code",
   "execution_count": null,
   "id": "fa6a27eb",
   "metadata": {},
   "outputs": [
    {
     "name": "stdout",
     "output_type": "stream",
     "text": [
      "sunita: Marks: [89.0, 99.0, 89.0] | Average: 92.33 | Grade: A\n"
     ]
    }
   ],
   "source": [
    "\n",
    "def get_grade(average):\n",
    "    if average >= 90:\n",
    "        return 'A'\n",
    "    elif average >= 80:\n",
    "        return 'B'\n",
    "    elif average >= 70:\n",
    "        return 'C'\n",
    "    elif average >= 60:\n",
    "        return 'D'\n",
    "    else:\n",
    "        return 'F'\n",
    "students = {}  \n",
    "num_students = int(input(\"Enter the number of students: \"))\n",
    "for i in range(num_students):\n",
    "    name = input(\"Enter student's name: \")  \n",
    "    marks = []  \n",
    "    for j in range(1, 4):\n",
    "        mark = float(input(f\"Enter marks for subject {j}: \"))\n",
    "        marks.append(mark)\n",
    "    average = sum(marks) / len(marks)\n",
    "    grade = get_grade(average)\n",
    "    students[name] = {\n",
    "        'Marks': marks,\n",
    "        'Average': round(average, 2),\n",
    "        'Grade': grade\n",
    "    }\n",
    "for name, data in students.items():\n",
    "    print(f\"{name}: Marks: {data['Marks']} \\n Average: {data['Average']} \\n Grade: {data['Grade']}\")\n"
   ]
  }
 ],
 "metadata": {
  "kernelspec": {
   "display_name": "name",
   "language": "python",
   "name": "python3"
  },
  "language_info": {
   "codemirror_mode": {
    "name": "ipython",
    "version": 3
   },
   "file_extension": ".py",
   "mimetype": "text/x-python",
   "name": "python",
   "nbconvert_exporter": "python",
   "pygments_lexer": "ipython3",
   "version": "3.13.5"
  }
 },
 "nbformat": 4,
 "nbformat_minor": 5
}
