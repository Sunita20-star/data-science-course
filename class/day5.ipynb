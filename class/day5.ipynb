{
 "cells": [
  {
   "cell_type": "markdown",
   "id": "d46b8392",
   "metadata": {},
   "source": [
    "maxsplit-how many times we want to split"
   ]
  },
  {
   "cell_type": "code",
   "execution_count": 98,
   "id": "4eca53a5",
   "metadata": {},
   "outputs": [
    {
     "name": "stdout",
     "output_type": "stream",
     "text": [
      "['one', 'two', 'three four']\n"
     ]
    }
   ],
   "source": [
    "line = \"one two three four\"\n",
    "print(line.split(\" \", 2))"
   ]
  },
  {
   "cell_type": "markdown",
   "id": "7331124d",
   "metadata": {},
   "source": [
    "split by space"
   ]
  },
  {
   "cell_type": "code",
   "execution_count": 99,
   "id": "28617faf",
   "metadata": {},
   "outputs": [
    {
     "name": "stdout",
     "output_type": "stream",
     "text": [
      "['Hello', 'world']\n"
     ]
    }
   ],
   "source": [
    "text = \"Hello world\"\n",
    "print(text.split())"
   ]
  },
  {
   "cell_type": "markdown",
   "id": "5757ab46",
   "metadata": {},
   "source": [
    "split by comma"
   ]
  },
  {
   "cell_type": "code",
   "execution_count": 100,
   "id": "ff6cf9ff",
   "metadata": {},
   "outputs": [
    {
     "name": "stdout",
     "output_type": "stream",
     "text": [
      "['never', 'say', 'no']\n"
     ]
    }
   ],
   "source": [
    "data = \"never,say,no\"\n",
    "print(data.split(\",\"))"
   ]
  },
  {
   "cell_type": "markdown",
   "id": "11d9785a",
   "metadata": {},
   "source": [
    "split by newline"
   ]
  },
  {
   "cell_type": "code",
   "execution_count": 101,
   "id": "b0db6ffd",
   "metadata": {},
   "outputs": [
    {
     "name": "stdout",
     "output_type": "stream",
     "text": [
      "['hello', 'sunita', 'rai']\n"
     ]
    }
   ],
   "source": [
    "text = \"hello\\nsunita\\nrai\"\n",
    "print(text.split(\"\\n\"))"
   ]
  },
  {
   "cell_type": "markdown",
   "id": "52a7c761",
   "metadata": {},
   "source": [
    "nested for loop -  end=\" \"=appear on the same line, with a space between."
   ]
  },
  {
   "cell_type": "code",
   "execution_count": 102,
   "id": "be60b79e",
   "metadata": {},
   "outputs": [
    {
     "name": "stdout",
     "output_type": "stream",
     "text": [
      "* * * * * \n",
      "* * * * * \n",
      "* * * * * \n"
     ]
    }
   ],
   "source": [
    "for row in range(3):       \n",
    "    for col in range(5):   \n",
    "        print(\"*\", end=\" \")\n",
    "    print()                "
   ]
  },
  {
   "cell_type": "code",
   "execution_count": 103,
   "id": "e32bbf75",
   "metadata": {},
   "outputs": [
    {
     "name": "stdout",
     "output_type": "stream",
     "text": [
      "7*1=7\n",
      "7*2=14\n",
      "7*3=21\n",
      "7*4=28\n",
      "7*5=35\n",
      "7*6=42\n",
      "7*7=49\n",
      "7*8=56\n",
      "7*9=63\n",
      "7*10=70\n"
     ]
    }
   ],
   "source": [
    "num=7\n",
    "for i in range(1,11):\n",
    "  print(f\"{num}*{i}={num*i}\")"
   ]
  },
  {
   "cell_type": "code",
   "execution_count": 104,
   "id": "b3efefa9",
   "metadata": {},
   "outputs": [
    {
     "name": "stdout",
     "output_type": "stream",
     "text": [
      "\n",
      "\n",
      "1*1=1\n",
      "1*2=2\n",
      "1*3=3\n",
      "1*4=4\n",
      "1*5=5\n",
      "1*6=6\n",
      "1*7=7\n",
      "1*8=8\n",
      "1*9=9\n",
      "1*10=10\n",
      "\n",
      "\n",
      "2*1=2\n",
      "2*2=4\n",
      "2*3=6\n",
      "2*4=8\n",
      "2*5=10\n",
      "2*6=12\n",
      "2*7=14\n",
      "2*8=16\n",
      "2*9=18\n",
      "2*10=20\n",
      "\n",
      "\n",
      "3*1=3\n",
      "3*2=6\n",
      "3*3=9\n",
      "3*4=12\n",
      "3*5=15\n",
      "3*6=18\n",
      "3*7=21\n",
      "3*8=24\n",
      "3*9=27\n",
      "3*10=30\n",
      "\n",
      "\n",
      "4*1=4\n",
      "4*2=8\n",
      "4*3=12\n",
      "4*4=16\n",
      "4*5=20\n",
      "4*6=24\n",
      "4*7=28\n",
      "4*8=32\n",
      "4*9=36\n",
      "4*10=40\n",
      "\n",
      "\n",
      "5*1=5\n",
      "5*2=10\n",
      "5*3=15\n",
      "5*4=20\n",
      "5*5=25\n",
      "5*6=30\n",
      "5*7=35\n",
      "5*8=40\n",
      "5*9=45\n",
      "5*10=50\n",
      "\n",
      "\n",
      "6*1=6\n",
      "6*2=12\n",
      "6*3=18\n",
      "6*4=24\n",
      "6*5=30\n",
      "6*6=36\n",
      "6*7=42\n",
      "6*8=48\n",
      "6*9=54\n",
      "6*10=60\n",
      "\n",
      "\n",
      "7*1=7\n",
      "7*2=14\n",
      "7*3=21\n",
      "7*4=28\n",
      "7*5=35\n",
      "7*6=42\n",
      "7*7=49\n",
      "7*8=56\n",
      "7*9=63\n",
      "7*10=70\n",
      "\n",
      "\n",
      "8*1=8\n",
      "8*2=16\n",
      "8*3=24\n",
      "8*4=32\n",
      "8*5=40\n",
      "8*6=48\n",
      "8*7=56\n",
      "8*8=64\n",
      "8*9=72\n",
      "8*10=80\n",
      "\n",
      "\n",
      "9*1=9\n",
      "9*2=18\n",
      "9*3=27\n",
      "9*4=36\n",
      "9*5=45\n",
      "9*6=54\n",
      "9*7=63\n",
      "9*8=72\n",
      "9*9=81\n",
      "9*10=90\n",
      "\n",
      "\n",
      "10*1=10\n",
      "10*2=20\n",
      "10*3=30\n",
      "10*4=40\n",
      "10*5=50\n",
      "10*6=60\n",
      "10*7=70\n",
      "10*8=80\n",
      "10*9=90\n",
      "10*10=100\n"
     ]
    }
   ],
   "source": [
    "for i in range(1,11):\n",
    "  print(\"\\n\")\n",
    "  for j in range(1,11):\n",
    "    print(f\"{i}*{j}={i*j}\")"
   ]
  },
  {
   "cell_type": "markdown",
   "id": "d5cd376b",
   "metadata": {},
   "source": [
    "reverse a a string using for lop"
   ]
  },
  {
   "cell_type": "code",
   "execution_count": 105,
   "id": "4c4984a4",
   "metadata": {},
   "outputs": [
    {
     "name": "stdout",
     "output_type": "stream",
     "text": [
      "<class 'str'>\n",
      "atinus\n"
     ]
    }
   ],
   "source": [
    "text=\"sunita\"\n",
    "reverse_text=\"\"\n",
    "print(type(reverse_text))\n",
    "for i in text:\n",
    "  reverse_text=i+reverse_text\n",
    "print(reverse_text)"
   ]
  },
  {
   "cell_type": "markdown",
   "id": "d6b5363a",
   "metadata": {},
   "source": [
    "print only the odd character using for loop"
   ]
  },
  {
   "cell_type": "code",
   "execution_count": 106,
   "id": "9f5d9810",
   "metadata": {},
   "outputs": [
    {
     "name": "stdout",
     "output_type": "stream",
     "text": [
      "u\n",
      "i\n",
      "a\n"
     ]
    }
   ],
   "source": [
    "text=\"sunita\"\n",
    "for i in range(1,len(text),2):\n",
    "  print(text[i])"
   ]
  },
  {
   "cell_type": "code",
   "execution_count": 107,
   "id": "77145f74",
   "metadata": {},
   "outputs": [
    {
     "name": "stdout",
     "output_type": "stream",
     "text": [
      "y\n",
      "h\n",
      "n\n"
     ]
    }
   ],
   "source": [
    "string=\"python\"\n",
    "for char in string:\n",
    "    if string.index(char) % 2 != 0:\n",
    "        print(char)"
   ]
  },
  {
   "cell_type": "code",
   "execution_count": 108,
   "id": "d57f1a8a",
   "metadata": {},
   "outputs": [
    {
     "name": "stdout",
     "output_type": "stream",
     "text": [
      "2\n",
      "4\n",
      "6\n",
      "8\n",
      "10\n",
      "sum of all even numbers is: 30\n"
     ]
    }
   ],
   "source": [
    "list=[1,2,3,4,5,6,7,8,9,10]\n",
    "sum=0\n",
    "for i in list:\n",
    "  if i%2==0:\n",
    "    print(i)\n",
    "    sum=sum+i\n",
    "print(\"sum of all even numbers is:\",sum)"
   ]
  },
  {
   "cell_type": "markdown",
   "id": "7e7aab84",
   "metadata": {},
   "source": [
    "break and continue"
   ]
  },
  {
   "cell_type": "code",
   "execution_count": 1,
   "id": "664a1529",
   "metadata": {},
   "outputs": [
    {
     "name": "stdout",
     "output_type": "stream",
     "text": [
      "1\n",
      "2\n"
     ]
    }
   ],
   "source": [
    "i=1\n",
    "while i<=5:\n",
    "  if i==3:\n",
    "    break\n",
    "  print(i)\n",
    "  i+=1"
   ]
  },
  {
   "cell_type": "markdown",
   "id": "3078f797",
   "metadata": {},
   "source": [
    "modules"
   ]
  },
  {
   "cell_type": "code",
   "execution_count": 1,
   "id": "f22dfec1",
   "metadata": {},
   "outputs": [
    {
     "name": "stdout",
     "output_type": "stream",
     "text": [
      "['__doc__', '__loader__', '__name__', '__package__', '__spec__', 'acos', 'acosh', 'asin', 'asinh', 'atan', 'atan2', 'atanh', 'cbrt', 'ceil', 'comb', 'copysign', 'cos', 'cosh', 'degrees', 'dist', 'e', 'erf', 'erfc', 'exp', 'exp2', 'expm1', 'fabs', 'factorial', 'floor', 'fma', 'fmod', 'frexp', 'fsum', 'gamma', 'gcd', 'hypot', 'inf', 'isclose', 'isfinite', 'isinf', 'isnan', 'isqrt', 'lcm', 'ldexp', 'lgamma', 'log', 'log10', 'log1p', 'log2', 'modf', 'nan', 'nextafter', 'perm', 'pi', 'pow', 'prod', 'radians', 'remainder', 'sin', 'sinh', 'sqrt', 'sumprod', 'tan', 'tanh', 'tau', 'trunc', 'ulp']\n"
     ]
    }
   ],
   "source": [
    "import math\n",
    "print(dir(math))"
   ]
  },
  {
   "cell_type": "code",
   "execution_count": 9,
   "id": "7b082403",
   "metadata": {},
   "outputs": [
    {
     "name": "stdout",
     "output_type": "stream",
     "text": [
      "\n",
      "Multiply two numbers and return the result.\n",
      "\n",
      "Parameters:\n",
      "a (int or float): First number\n",
      "b (int or float): Second number\n",
      "\n",
      "Returns:\n",
      "int or float: Product of a and b\n",
      "\n"
     ]
    }
   ],
   "source": [
    "def multiply(a, b):\n",
    "    \"\"\"\n",
    "    Multiply two numbers and return the result.\n",
    "\n",
    "    Parameters:\n",
    "    a (int or float): First number\n",
    "    b (int or float): Second number\n",
    "\n",
    "    Returns:\n",
    "    int or float: Product of a and b\n",
    "    \"\"\"\n",
    "    return a * b\n",
    "\n",
    "print(multiply.__doc__)  # This prints the docstring\n"
   ]
  }
 ],
 "metadata": {
  "kernelspec": {
   "display_name": "name",
   "language": "python",
   "name": "python3"
  },
  "language_info": {
   "codemirror_mode": {
    "name": "ipython",
    "version": 3
   },
   "file_extension": ".py",
   "mimetype": "text/x-python",
   "name": "python",
   "nbconvert_exporter": "python",
   "pygments_lexer": "ipython3",
   "version": "3.13.5"
  }
 },
 "nbformat": 4,
 "nbformat_minor": 5
}
