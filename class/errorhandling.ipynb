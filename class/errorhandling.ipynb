{
 "cells": [
  {
   "cell_type": "markdown",
   "id": "6b4d7615",
   "metadata": {},
   "source": [
    "ErrorHandling=the way of presenting the error in custom message\n",
    "->try and except\n",
    "->in try block we write the code that may arise the error\n",
    "->if the error arises then the code of except block will executed\n",
    "->else the code of try block will executed"
   ]
  },
  {
   "cell_type": "code",
   "execution_count": 3,
   "id": "394d1518",
   "metadata": {},
   "outputs": [
    {
     "name": "stdout",
     "output_type": "stream",
     "text": [
      "The value of b cannot be zero\n"
     ]
    }
   ],
   "source": [
    "a=10\n",
    "b=0\n",
    "try:\n",
    " print(a/b)\n",
    "except:\n",
    "  print('The value of b cannot be zero')"
   ]
  },
  {
   "cell_type": "code",
   "execution_count": 5,
   "id": "5926813f",
   "metadata": {},
   "outputs": [
    {
     "name": "stdout",
     "output_type": "stream",
     "text": [
      "The range doesnot exists\n"
     ]
    }
   ],
   "source": [
    "list1=['sunita','rai',1,2,3]\n",
    "try:\n",
    " print(list1[10])\n",
    "except:\n",
    "  print('The range doesnot exists')"
   ]
  },
  {
   "cell_type": "code",
   "execution_count": 8,
   "id": "09a18763",
   "metadata": {},
   "outputs": [
    {
     "name": "stdout",
     "output_type": "stream",
     "text": [
      "file not found......\n"
     ]
    }
   ],
   "source": [
    "try:\n",
    " file=open('error.txt','r')\n",
    " content=file.read()\n",
    " file.close()\n",
    "except:\n",
    "  print('file not found......')\n",
    "  # print('file not found so we create')\n",
    "  # file=open('error.txt','w')\n",
    "  # file.write('file is created')\n",
    "  # file.close()\n"
   ]
  },
  {
   "cell_type": "code",
   "execution_count": 9,
   "id": "14d73126",
   "metadata": {},
   "outputs": [
    {
     "name": "stdout",
     "output_type": "stream",
     "text": [
      "The value of b cannot be zero\n",
      "The range doesnot exists\n"
     ]
    }
   ],
   "source": [
    "a=10\n",
    "b=0\n",
    "try:\n",
    " print(a/b)\n",
    "except:\n",
    "  print('The value of b cannot be zero')\n",
    "list1=['sunita','rai',1,2,3]\n",
    "try:\n",
    " print(list1[10])\n",
    "except:\n",
    "  print('The range doesnot exists')"
   ]
  },
  {
   "cell_type": "code",
   "execution_count": 19,
   "id": "dea5a493",
   "metadata": {},
   "outputs": [
    {
     "name": "stdout",
     "output_type": "stream",
     "text": [
      "The value of b cannot be zero\n"
     ]
    }
   ],
   "source": [
    "a = 10\n",
    "b = 0\n",
    "list1 = ['sunita', 'rai', 1, 2, 3]  # define before using\n",
    "try:\n",
    "    print(a / b)                   # ZeroDivisionError\n",
    "    print(list1[10])                # IndexError\n",
    "    file = open('error.txt', 'r')   # FileNotFoundError\n",
    "    content = file.read()\n",
    "    file.close()\n",
    "except ZeroDivisionError:  # specific error\n",
    "    print('The value of b cannot be zero')\n",
    "except IndexError:  # specific error\n",
    "    print('The range does not exist')\n",
    "except FileNotFoundError:  # specific error\n",
    "    print('File not found......')\n",
    "except Exception as e:  # generic, catches anything else\n",
    "    print(f'An error occurred: {e}')\n"
   ]
  },
  {
   "cell_type": "code",
   "execution_count": null,
   "id": "0967858b",
   "metadata": {},
   "outputs": [
    {
     "name": "stdout",
     "output_type": "stream",
     "text": [
      "division by zero\n"
     ]
    }
   ],
   "source": [
    "a=10\n",
    "b=0\n",
    "try:\n",
    " print(a/b)\n",
    "except ZeroDivisionError as e: #yo e(object) ko satta jun name rakhda hunxa ZeroDivisionError(class)\n",
    "  print(e)  #yo class vitra euta statement xa tei print hunxa"
   ]
  },
  {
   "cell_type": "code",
   "execution_count": null,
   "id": "aab67d7f",
   "metadata": {},
   "outputs": [
    {
     "name": "stdout",
     "output_type": "stream",
     "text": [
      "<class '__main__.ABC'>\n",
      "Thank you\n"
     ]
    }
   ],
   "source": [
    "#OOP \n",
    "class ABC:\n",
    "  def __str__(self):\n",
    "    return 'Thank you' #return thank you when object is printed\n",
    "print(ABC)\n",
    "abc=ABC()\n",
    "print(abc)\n",
    "  #magic method aka dunder method"
   ]
  }
 ],
 "metadata": {
  "kernelspec": {
   "display_name": "name",
   "language": "python",
   "name": "python3"
  },
  "language_info": {
   "codemirror_mode": {
    "name": "ipython",
    "version": 3
   },
   "file_extension": ".py",
   "mimetype": "text/x-python",
   "name": "python",
   "nbconvert_exporter": "python",
   "pygments_lexer": "ipython3",
   "version": "3.13.5"
  }
 },
 "nbformat": 4,
 "nbformat_minor": 5
}
