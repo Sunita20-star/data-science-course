{
 "cells": [
  {
   "cell_type": "code",
   "execution_count": 9,
   "id": "cbb57e40",
   "metadata": {},
   "outputs": [
    {
     "name": "stdout",
     "output_type": "stream",
     "text": [
      "sunita\n"
     ]
    }
   ],
   "source": [
    "import numpy as np\n",
    "\n",
    "text = 'SUNITA'\n",
    "print(np.char.lower(text))\n",
    "\n"
   ]
  },
  {
   "cell_type": "code",
   "execution_count": 15,
   "id": "5b5294ad",
   "metadata": {},
   "outputs": [
    {
     "name": "stdout",
     "output_type": "stream",
     "text": [
      "Good Morning\n"
     ]
    }
   ],
   "source": [
    "print(np.char.add('Good ', 'Morning'))\n"
   ]
  },
  {
   "cell_type": "code",
   "execution_count": 10,
   "id": "eb806d66",
   "metadata": {},
   "outputs": [
    {
     "name": "stdout",
     "output_type": "stream",
     "text": [
      "SUNITA\n"
     ]
    }
   ],
   "source": [
    "import numpy as np\n",
    "\n",
    "text = 'sunita'\n",
    "print(np.char.upper(text))"
   ]
  },
  {
   "cell_type": "code",
   "execution_count": 11,
   "id": "b07eaf4b",
   "metadata": {},
   "outputs": [
    {
     "name": "stdout",
     "output_type": "stream",
     "text": [
      "Python programming\n"
     ]
    }
   ],
   "source": [
    "text = 'python programming'\n",
    "print(np.char.capitalize(text))"
   ]
  },
  {
   "cell_type": "code",
   "execution_count": 12,
   "id": "1f5a00ec",
   "metadata": {},
   "outputs": [
    {
     "name": "stdout",
     "output_type": "stream",
     "text": [
      "hello\n"
     ]
    }
   ],
   "source": [
    "text = '   hello   '\n",
    "print(np.char.strip(text))\n"
   ]
  },
  {
   "cell_type": "code",
   "execution_count": 13,
   "id": "b8c99433",
   "metadata": {},
   "outputs": [
    {
     "name": "stdout",
     "output_type": "stream",
     "text": [
      "['hello', 'world']\n"
     ]
    }
   ],
   "source": [
    "text = 'hello world'\n",
    "print(np.char.split(text))\n"
   ]
  },
  {
   "cell_type": "code",
   "execution_count": 14,
   "id": "8487bfe3",
   "metadata": {},
   "outputs": [
    {
     "name": "stdout",
     "output_type": "stream",
     "text": [
      "1\n"
     ]
    }
   ],
   "source": [
    "text = 'sunita'\n",
    "print(np.char.count(text, 'a'))\n",
    "\n"
   ]
  },
  {
   "cell_type": "code",
   "execution_count": 18,
   "id": "bf9e4928",
   "metadata": {},
   "outputs": [
    {
     "name": "stdout",
     "output_type": "stream",
     "text": [
      "[1 2 3 4 5]\n",
      "[False False False  True  True]\n"
     ]
    }
   ],
   "source": [
    "array=np.array((1,2,3,4,5))\n",
    "boolean=array>3\n",
    "print(array)\n",
    "print(boolean)"
   ]
  },
  {
   "cell_type": "code",
   "execution_count": 20,
   "id": "bd54c616",
   "metadata": {},
   "outputs": [
    {
     "name": "stdout",
     "output_type": "stream",
     "text": [
      "[ 1  2  3  4  5  6  7  8  9 10]\n",
      "[1 1 3 1 5 1 7 1 9 1]\n"
     ]
    }
   ],
   "source": [
    "num=np.array([1,2,3,4,5,6,7,8,9,10])\n",
    "num_copy=num.copy()\n",
    "print(num_copy)\n",
    "num_copy[num%2==0]=True\n",
    "print(num_copy)"
   ]
  },
  {
   "cell_type": "code",
   "execution_count": 21,
   "id": "1d2ba7f4",
   "metadata": {},
   "outputs": [
    {
     "name": "stdout",
     "output_type": "stream",
     "text": [
      "[ 1  2  3  4  5  6  7  8  9 10]\n",
      "[1 0 3 0 5 0 7 0 9 0]\n"
     ]
    }
   ],
   "source": [
    "num=np.array([1,2,3,4,5,6,7,8,9,10])\n",
    "num_copy=num.copy()\n",
    "print(num_copy)\n",
    "num_copy[num%2==0]=False\n",
    "print(num_copy)"
   ]
  },
  {
   "cell_type": "code",
   "execution_count": 22,
   "id": "a3aa49ec",
   "metadata": {},
   "outputs": [
    {
     "name": "stdout",
     "output_type": "stream",
     "text": [
      "[4 6]\n"
     ]
    }
   ],
   "source": [
    "a1=np.array([1,2])\n",
    "a2=np.array([3,4])\n",
    "print(a1+a2)"
   ]
  },
  {
   "cell_type": "markdown",
   "id": "0d9775a8",
   "metadata": {},
   "source": [
    "interview=homogeneous shape and non homogeneous shapes of an array"
   ]
  },
  {
   "cell_type": "code",
   "execution_count": 23,
   "id": "eb0a3425",
   "metadata": {},
   "outputs": [
    {
     "name": "stdout",
     "output_type": "stream",
     "text": [
      "[1 2]\n"
     ]
    }
   ],
   "source": [
    "#fancy indexing=multiple array lai access garxa\n",
    "import numpy as np\n",
    "arr=np.array([1,2,3])\n",
    "select=arr[[0,1]]\n",
    "print(select)"
   ]
  },
  {
   "cell_type": "code",
   "execution_count": 25,
   "id": "5ef210ad",
   "metadata": {},
   "outputs": [
    {
     "name": "stdout",
     "output_type": "stream",
     "text": [
      "[[1 2 3]\n",
      " [4 5 6]]\n"
     ]
    }
   ],
   "source": [
    "array=np.array(\n",
    "  [\n",
    "    [1,2,3],\n",
    "    [4,5,6]\n",
    "  ]\n",
    ")\n",
    "print(array)"
   ]
  },
  {
   "cell_type": "code",
   "execution_count": 27,
   "id": "81266407",
   "metadata": {},
   "outputs": [
    {
     "name": "stdout",
     "output_type": "stream",
     "text": [
      "[[1 2 3 4]\n",
      " [5 6 7 8]\n",
      " [9 0 1 2]]\n"
     ]
    }
   ],
   "source": [
    "arr=np.array([\n",
    "  [1,2,3,4],\n",
    "  [5,6,7,8],\n",
    "  [9,0,1,2]\n",
    "])\n",
    "print(arr)"
   ]
  },
  {
   "cell_type": "markdown",
   "id": "1dbc0f91",
   "metadata": {},
   "source": [
    "3d array"
   ]
  },
  {
   "cell_type": "code",
   "execution_count": 32,
   "id": "4c38ae5c",
   "metadata": {},
   "outputs": [
    {
     "name": "stdout",
     "output_type": "stream",
     "text": [
      "[[[1 2 3]\n",
      "  [4 5 6]]\n",
      "\n",
      " [[7 8 9]\n",
      "  [2 4 5]]\n",
      "\n",
      " [[1 2 3]\n",
      "  [4 4 6]]]\n"
     ]
    }
   ],
   "source": [
    "array1 = np.array([\n",
    "  [[1, 2, 3],\n",
    "   [4, 5, 6]\n",
    "  ],\n",
    "  [[7, 8, 9],\n",
    "   [2, 4, 5]\n",
    "  ],\n",
    "  [[1, 2, 3],\n",
    "   [4, 4, 6]\n",
    "  ]\n",
    "])\n",
    "\n",
    "print(array1)\n"
   ]
  },
  {
   "cell_type": "code",
   "execution_count": 2,
   "id": "2d7c3ad3",
   "metadata": {},
   "outputs": [
    {
     "data": {
      "text/plain": [
       "array([[ 9, 12],\n",
       "       [15, 18]])"
      ]
     },
     "execution_count": 2,
     "metadata": {},
     "output_type": "execute_result"
    }
   ],
   "source": [
    "import numpy as np\n",
    "arr=np.array(\n",
    "  [\n",
    "    [3,4],[5,6]\n",
    "  ]\n",
    ")\n",
    "scalar=3\n",
    "result=arr*scalar\n",
    "result"
   ]
  },
  {
   "cell_type": "code",
   "execution_count": 4,
   "id": "d093ac82",
   "metadata": {},
   "outputs": [
    {
     "data": {
      "text/plain": [
       "array([[11, 22, 33],\n",
       "       [15, 26, 37]])"
      ]
     },
     "execution_count": 4,
     "metadata": {},
     "output_type": "execute_result"
    }
   ],
   "source": [
    "a=np.array([[1,2,3],[5,6,7]])\n",
    "b=np.array([10,20,30])\n",
    "c=a+b\n",
    "c"
   ]
  },
  {
   "cell_type": "code",
   "execution_count": 7,
   "id": "e2165d10",
   "metadata": {},
   "outputs": [
    {
     "ename": "SyntaxError",
     "evalue": "cannot assign to comparison (3331460329.py, line 3)",
     "output_type": "error",
     "traceback": [
      "  \u001b[36mCell\u001b[39m\u001b[36m \u001b[39m\u001b[32mIn[7]\u001b[39m\u001b[32m, line 3\u001b[39m\n\u001b[31m    \u001b[39m\u001b[31m[arr>50]=-1\u001b[39m\n     ^\n\u001b[31mSyntaxError\u001b[39m\u001b[31m:\u001b[39m cannot assign to comparison\n"
     ]
    }
   ],
   "source": [
    "import numpy as np\n",
    "arr=np.random.randint(10,10,size=(2,5,5))\n",
    "[arr>50]=-1\n",
    "print(arr)\n"
   ]
  }
 ],
 "metadata": {
  "kernelspec": {
   "display_name": "name",
   "language": "python",
   "name": "python3"
  },
  "language_info": {
   "codemirror_mode": {
    "name": "ipython",
    "version": 3
   },
   "file_extension": ".py",
   "mimetype": "text/x-python",
   "name": "python",
   "nbconvert_exporter": "python",
   "pygments_lexer": "ipython3",
   "version": "3.13.5"
  }
 },
 "nbformat": 4,
 "nbformat_minor": 5
}
