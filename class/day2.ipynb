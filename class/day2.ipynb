{
 "cells": [
  {
   "cell_type": "code",
   "execution_count": 1,
   "id": "1d3025a1",
   "metadata": {},
   "outputs": [
    {
     "name": "stdout",
     "output_type": "stream",
     "text": [
      "(5, 1.2, 'sunita', True, ['x', 1.2], False)\n"
     ]
    }
   ],
   "source": [
    "tuple=(5,1.2,\"sunita\",True,[22,1.2],False)\n",
    "tuple[4][0]=\"x\"\n",
    "print(tuple)\n"
   ]
  },
  {
   "cell_type": "code",
   "execution_count": 2,
   "id": "f8f5f282",
   "metadata": {},
   "outputs": [],
   "source": [
    "# t=[1,2,3,4,5,6,7,8]\n",
    "# y=tuple(t)\n",
    "# print(y)"
   ]
  },
  {
   "cell_type": "code",
   "execution_count": 3,
   "id": "f1576951",
   "metadata": {},
   "outputs": [
    {
     "name": "stdout",
     "output_type": "stream",
     "text": [
      "<class 'tuple'>\n"
     ]
    }
   ],
   "source": [
    "t=(1,)\n",
    "print(type(t))"
   ]
  },
  {
   "cell_type": "code",
   "execution_count": 4,
   "id": "fc1b87e5",
   "metadata": {},
   "outputs": [
    {
     "name": "stdout",
     "output_type": "stream",
     "text": [
      "<class 'int'>\n"
     ]
    }
   ],
   "source": [
    "t=(1)\n",
    "print(type(t))"
   ]
  },
  {
   "cell_type": "code",
   "execution_count": 5,
   "id": "67530295",
   "metadata": {},
   "outputs": [
    {
     "name": "stdout",
     "output_type": "stream",
     "text": [
      "(3.14, 'sun')\n",
      "3.14\n"
     ]
    }
   ],
   "source": [
    "tuple=(50,3.14,\"sun\",True)\n",
    "print(tuple[1:3])\n",
    "print(tuple[1])\n"
   ]
  },
  {
   "cell_type": "code",
   "execution_count": 6,
   "id": "a77165db",
   "metadata": {},
   "outputs": [],
   "source": [
    "t=(1,2,())"
   ]
  },
  {
   "cell_type": "code",
   "execution_count": 7,
   "id": "facbee02",
   "metadata": {},
   "outputs": [
    {
     "data": {
      "text/plain": [
       "set"
      ]
     },
     "execution_count": 7,
     "metadata": {},
     "output_type": "execute_result"
    }
   ],
   "source": [
    "sets={1,2,5.6,\"sun\"}\n",
    "type(sets)"
   ]
  },
  {
   "cell_type": "code",
   "execution_count": 8,
   "id": "fd8dec6d",
   "metadata": {},
   "outputs": [
    {
     "data": {
      "text/plain": [
       "{3, 'sun'}"
      ]
     },
     "execution_count": 8,
     "metadata": {},
     "output_type": "execute_result"
    }
   ],
   "source": [
    "seta={1,2,3,\"sun\"}\n",
    "setb={3,4,5,\"sun\"}\n",
    "# set=seta.intersection(setb)\n",
    "set=seta & setb\n",
    "set"
   ]
  },
  {
   "cell_type": "code",
   "execution_count": 9,
   "id": "b7ddd134",
   "metadata": {},
   "outputs": [
    {
     "name": "stdout",
     "output_type": "stream",
     "text": [
      "{'apple': 5, 'banana': 10, 'cherry': 15}\n"
     ]
    }
   ],
   "source": [
    "dict={\n",
    "  \"apple\":5,\n",
    "  \"banana\":10,\n",
    "  \"cherry\":15\n",
    "}\n",
    "print(dict)"
   ]
  },
  {
   "cell_type": "code",
   "execution_count": 10,
   "id": "5d8ad490",
   "metadata": {},
   "outputs": [
    {
     "name": "stdout",
     "output_type": "stream",
     "text": [
      "{'apple': 5, 'banana': 10}\n"
     ]
    }
   ],
   "source": [
    "dict={\n",
    "  \"apple\":5,\n",
    "  \"banana\":10,\n",
    "  \"cherry\":15\n",
    "}\n",
    "dict.pop('cherry')\n",
    "print(dict)"
   ]
  },
  {
   "cell_type": "code",
   "execution_count": 11,
   "id": "931170ca",
   "metadata": {},
   "outputs": [
    {
     "name": "stdout",
     "output_type": "stream",
     "text": [
      "{'apple': 5, 'banana': 10}\n"
     ]
    }
   ],
   "source": [
    "dict={\n",
    "  \"apple\":5,\n",
    "  \"banana\":10,\n",
    "  \"cherry\":15\n",
    "}\n",
    "dict.popitem()\n",
    "print(dict)"
   ]
  },
  {
   "cell_type": "code",
   "execution_count": 12,
   "id": "59e256f8",
   "metadata": {},
   "outputs": [
    {
     "name": "stdout",
     "output_type": "stream",
     "text": [
      "{}\n"
     ]
    }
   ],
   "source": [
    "dict={\n",
    "  \"apple\":5,\n",
    "  \"banana\":10,\n",
    "  \"cherry\":15\n",
    "}\n",
    "dict.clear()\n",
    "print(dict)"
   ]
  },
  {
   "cell_type": "code",
   "execution_count": 13,
   "id": "d87aa669",
   "metadata": {},
   "outputs": [
    {
     "name": "stdout",
     "output_type": "stream",
     "text": [
      "a is not equal to b\n"
     ]
    }
   ],
   "source": [
    "a,b=5,2\n",
    "if a!=b:\n",
    "  print(\"a is not equal to b\")\n",
    "else:\n",
    "  print(\"error\")"
   ]
  },
  {
   "cell_type": "code",
   "execution_count": 14,
   "id": "c8edc628",
   "metadata": {},
   "outputs": [
    {
     "name": "stdout",
     "output_type": "stream",
     "text": [
      "even\n"
     ]
    }
   ],
   "source": [
    "num=int(input(\"enter any one integer number\"))\n",
    "if num % 2==0:\n",
    "  print(\"even\")\n",
    "else:\n",
    "  print(\"odd\")"
   ]
  },
  {
   "cell_type": "code",
   "execution_count": 15,
   "id": "662c9ca0",
   "metadata": {},
   "outputs": [
    {
     "name": "stdout",
     "output_type": "stream",
     "text": [
      "even 4\n"
     ]
    }
   ],
   "source": [
    "num=int(input(\"enter any one integer number\"))\n",
    "if num % 2==0:\n",
    "  print(\"even\",num)\n",
    "else:\n",
    "  print(\"odd\",num)"
   ]
  }
 ],
 "metadata": {
  "kernelspec": {
   "display_name": "name",
   "language": "python",
   "name": "python3"
  },
  "language_info": {
   "codemirror_mode": {
    "name": "ipython",
    "version": 3
   },
   "file_extension": ".py",
   "mimetype": "text/x-python",
   "name": "python",
   "nbconvert_exporter": "python",
   "pygments_lexer": "ipython3",
   "version": "3.13.5"
  }
 },
 "nbformat": 4,
 "nbformat_minor": 5
}
