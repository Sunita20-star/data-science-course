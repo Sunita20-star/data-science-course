{
 "cells": [
  {
   "cell_type": "markdown",
   "id": "f5f8fd86",
   "metadata": {},
   "source": [
    "for loop  is used when we wnat to repeat a block of code for each item in a sequence \n",
    "it allows us to run a block of code multiple times."
   ]
  },
  {
   "cell_type": "code",
   "execution_count": 1,
   "id": "d34dc784",
   "metadata": {},
   "outputs": [
    {
     "name": "stdout",
     "output_type": "stream",
     "text": [
      "apple\n",
      "mango\n",
      "banana\n",
      "cherry\n"
     ]
    }
   ],
   "source": [
    "fruits=[\"apple\",\"mango\",\"banana\",\"cherry\"]\n",
    "fruits\n",
    "for i in fruits:\n",
    "  print(i)"
   ]
  },
  {
   "cell_type": "code",
   "execution_count": 2,
   "id": "d71b2d8d",
   "metadata": {},
   "outputs": [
    {
     "name": "stdout",
     "output_type": "stream",
     "text": [
      "['apple', 'mango', 'banana', 'cherry', 1]\n",
      "1 apple\n",
      "2 mango\n",
      "3 banana\n",
      "4 cherry\n",
      "5 1\n"
     ]
    }
   ],
   "source": [
    "a=1\n",
    "fruits=[\"apple\",\"mango\",\"banana\",\"cherry\",1]\n",
    "print(fruits)\n",
    "for fruit in fruits:\n",
    "  print(a,fruit)\n",
    "  a+=1"
   ]
  },
  {
   "cell_type": "code",
   "execution_count": 3,
   "id": "6d1c94be",
   "metadata": {},
   "outputs": [
    {
     "name": "stdout",
     "output_type": "stream",
     "text": [
      "h\n",
      "e\n",
      "l\n",
      "l\n",
      "o\n",
      " \n",
      "s\n",
      "u\n",
      "n\n",
      "i\n",
      "t\n",
      "a\n",
      "!\n"
     ]
    }
   ],
   "source": [
    "string=\"hello sunita!\"\n",
    "for char in string:\n",
    "  print(char)"
   ]
  },
  {
   "cell_type": "code",
   "execution_count": 4,
   "id": "841090c0",
   "metadata": {},
   "outputs": [
    {
     "name": "stdout",
     "output_type": "stream",
     "text": [
      "2\n",
      "4\n",
      "6\n",
      "8\n",
      "10\n",
      "12\n",
      "14\n",
      "16\n",
      "18\n",
      "20\n",
      "22\n",
      "24\n",
      "26\n",
      "28\n",
      "30\n",
      "32\n",
      "34\n",
      "36\n",
      "38\n",
      "40\n",
      "42\n",
      "44\n",
      "46\n",
      "48\n",
      "50\n",
      "52\n",
      "54\n",
      "56\n",
      "58\n",
      "60\n",
      "62\n",
      "64\n",
      "66\n",
      "68\n",
      "70\n",
      "72\n",
      "74\n",
      "76\n",
      "78\n",
      "80\n",
      "82\n",
      "84\n",
      "86\n",
      "88\n",
      "90\n",
      "92\n",
      "94\n",
      "96\n",
      "98\n",
      "100\n",
      "sum of all even numbers from 1 to 100 is 2550\n"
     ]
    }
   ],
   "source": [
    "sum=0\n",
    "for num in range(1,101):\n",
    "  if num%2==0:\n",
    "    sum=sum+num\n",
    "    print(num)\n",
    "print(\"sum of all even numbers from 1 to 100 is\",sum)"
   ]
  },
  {
   "cell_type": "code",
   "execution_count": 5,
   "id": "9d107bf2",
   "metadata": {},
   "outputs": [
    {
     "name": "stdout",
     "output_type": "stream",
     "text": [
      "2\n",
      "4\n",
      "6\n",
      "8\n"
     ]
    }
   ],
   "source": [
    "for i in range(2,10,2):\n",
    "  print(i)"
   ]
  },
  {
   "cell_type": "code",
   "execution_count": 7,
   "id": "203fdacd",
   "metadata": {},
   "outputs": [
    {
     "name": "stdout",
     "output_type": "stream",
     "text": [
      "hello this is sunita\n",
      "Number of vowels in the sentence is: 7\n"
     ]
    }
   ],
   "source": [
    "sentence = input(\"Enter a sentence: \")\n",
    "print(sentence)\n",
    "vowels = \"aeiouAEIOU\"\n",
    "count = 0\n",
    "\n",
    "for char in sentence:\n",
    "    if char in vowels:\n",
    "        count += 1\n",
    "\n",
    "print(\"Number of vowels in the sentence is:\", count)\n"
   ]
  }
 ],
 "metadata": {
  "kernelspec": {
   "display_name": "name",
   "language": "python",
   "name": "python3"
  },
  "language_info": {
   "codemirror_mode": {
    "name": "ipython",
    "version": 3
   },
   "file_extension": ".py",
   "mimetype": "text/x-python",
   "name": "python",
   "nbconvert_exporter": "python",
   "pygments_lexer": "ipython3",
   "version": "3.13.5"
  }
 },
 "nbformat": 4,
 "nbformat_minor": 5
}
