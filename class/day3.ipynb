{
 "cells": [
  {
   "cell_type": "code",
   "execution_count": 11,
   "id": "446a6eeb",
   "metadata": {},
   "outputs": [
    {
     "name": "stdout",
     "output_type": "stream",
     "text": [
      "num3 is greater 16.0\n"
     ]
    }
   ],
   "source": [
    "num1 = float(input(\"Enter first number: \"))\n",
    "num2 = float(input(\"Enter second number: \"))\n",
    "num3 = float(input(\"Enter third number: \"))\n",
    "\n",
    "if num1 > num2 and num1 > num3:\n",
    "    print(\"num1 is greater\")\n",
    "elif num2 > num1 and num2 > num3:\n",
    "    print(\"num2 is greater\")\n",
    "else:\n",
    "    print(\"num3 is greater\", num3)\n"
   ]
  },
  {
   "cell_type": "code",
   "execution_count": 12,
   "id": "88c476d0",
   "metadata": {},
   "outputs": [
    {
     "name": "stdout",
     "output_type": "stream",
     "text": [
      "consonant\n"
     ]
    }
   ],
   "source": [
    "\n",
    "alphabet=str(input(\"enter a alphabet\"))\n",
    "if alphabet in ['a','e','i','o','u']:\n",
    "  print(\"vowel\")\n",
    "else:\n",
    "  print(\"consonant\")"
   ]
  },
  {
   "cell_type": "code",
   "execution_count": null,
   "id": "3830d8f1",
   "metadata": {},
   "outputs": [
    {
     "name": "stdout",
     "output_type": "stream",
     "text": [
      "Grade B\n"
     ]
    }
   ],
   "source": [
    "a = int(input(\"Enter the grade of student\"))\n",
    "\n",
    "if a >= 90 and a <= 100:\n",
    "    print(\"Grade A\")\n",
    "elif a >= 80 and a <= 89 :\n",
    "    print(\"Grade B\")\n",
    "elif a >= 70 and a <= 79 :\n",
    "    print(\"Grade C\")\n",
    "\n",
    "elif a >= 60 and a <= 69 :\n",
    "    print(\"Grade D\")\n",
    "elif a >= 50 and a <= 59 :\n",
    "    print(\"Grade E\")\n",
    "else :\n",
    "    print(\"Grade F\")"
   ]
  }
 ],
 "metadata": {
  "kernelspec": {
   "display_name": "name",
   "language": "python",
   "name": "python3"
  },
  "language_info": {
   "codemirror_mode": {
    "name": "ipython",
    "version": 3
   },
   "file_extension": ".py",
   "mimetype": "text/x-python",
   "name": "python",
   "nbconvert_exporter": "python",
   "pygments_lexer": "ipython3",
   "version": "3.13.5"
  }
 },
 "nbformat": 4,
 "nbformat_minor": 5
}
