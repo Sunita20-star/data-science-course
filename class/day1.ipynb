{
 "cells": [
  {
   "cell_type": "code",
   "execution_count": 101,
   "id": "1f71a19b",
   "metadata": {},
   "outputs": [
    {
     "name": "stdout",
     "output_type": "stream",
     "text": [
      "12\n"
     ]
    },
    {
     "data": {
      "text/plain": [
       "['sun', 13.5, True]"
      ]
     },
     "execution_count": 101,
     "metadata": {},
     "output_type": "execute_result"
    }
   ],
   "source": [
    "list=[\"sun\",12,13.5,True]\n",
    "print(list.pop(1))\n",
    "list"
   ]
  },
  {
   "cell_type": "code",
   "execution_count": 111,
   "id": "95177778",
   "metadata": {},
   "outputs": [
    {
     "name": "stdout",
     "output_type": "stream",
     "text": [
      "12\n",
      "[12.2, 'sunita', True, False]\n"
     ]
    }
   ],
   "source": [
    "list=[]\n",
    "list.insert(0,12)\n",
    "list.insert(1,12.2)\n",
    "list.insert(2,\"sunita\")\n",
    "list.insert(3,True)\n",
    "list.insert(4,False)\n",
    "list\n",
    "print(list.pop(0))\n",
    "print(list)"
   ]
  },
  {
   "cell_type": "markdown",
   "id": "25170ce1",
   "metadata": {},
   "source": [
    "print(list.count(6))\n",
    "6 kati choti repeat vako xa tyo herxa"
   ]
  },
  {
   "cell_type": "code",
   "execution_count": 103,
   "id": "f8652100",
   "metadata": {},
   "outputs": [
    {
     "data": {
      "text/plain": [
       "['sun', 12, 13.5, 'sunita', True]"
      ]
     },
     "execution_count": 103,
     "metadata": {},
     "output_type": "execute_result"
    }
   ],
   "source": [
    "list=[\"sun\",12,13.5,True]\n",
    "list.insert(3,\"sunita\")\n",
    "list"
   ]
  },
  {
   "cell_type": "code",
   "execution_count": 104,
   "id": "843aab8f",
   "metadata": {},
   "outputs": [
    {
     "data": {
      "text/plain": [
       "[5]"
      ]
     },
     "execution_count": 104,
     "metadata": {},
     "output_type": "execute_result"
    }
   ],
   "source": [
    "#empty list creation=it insert an item into the empty list\n",
    "list=[]\n",
    "list.append(5)\n",
    "list"
   ]
  },
  {
   "cell_type": "markdown",
   "id": "47d426e4",
   "metadata": {},
   "source": [
    "LEN() function is used to indicate how many items we have and type() checks which data type\n"
   ]
  },
  {
   "cell_type": "code",
   "execution_count": 105,
   "id": "77e67227",
   "metadata": {},
   "outputs": [
    {
     "name": "stdout",
     "output_type": "stream",
     "text": [
      "['anita', 12.5, 30, True, False, 'sun']\n",
      "6\n",
      "<class 'list'>\n",
      "12.5\n"
     ]
    }
   ],
   "source": [
    "list=[\"anita\",12.5,30,True,False,\"sun\"]\n",
    "print(list)\n",
    "print(len(list))\n",
    "print(type(list))\n",
    "print(list[1]) #indexing"
   ]
  },
  {
   "cell_type": "code",
   "execution_count": 106,
   "id": "d5a7edd0",
   "metadata": {},
   "outputs": [
    {
     "name": "stdout",
     "output_type": "stream",
     "text": [
      "<class 'int'>\n"
     ]
    }
   ],
   "source": [
    "a=1344\n",
    "print(type(a))"
   ]
  },
  {
   "cell_type": "code",
   "execution_count": 107,
   "id": "dc08bca9",
   "metadata": {},
   "outputs": [
    {
     "name": "stdout",
     "output_type": "stream",
     "text": [
      "<class 'float'>\n"
     ]
    }
   ],
   "source": [
    "a=1.5\n",
    "print(type(a))"
   ]
  },
  {
   "cell_type": "code",
   "execution_count": 108,
   "id": "2ea2818f",
   "metadata": {},
   "outputs": [
    {
     "name": "stdout",
     "output_type": "stream",
     "text": [
      "<class 'str'>\n"
     ]
    }
   ],
   "source": [
    "a=\"sunita\"\n",
    "print(type(a))"
   ]
  },
  {
   "cell_type": "code",
   "execution_count": 109,
   "id": "7225e661",
   "metadata": {},
   "outputs": [
    {
     "name": "stdout",
     "output_type": "stream",
     "text": [
      "<class 'int'>\n"
     ]
    }
   ],
   "source": [
    "a=12\n",
    "print(type(a))"
   ]
  }
 ],
 "metadata": {
  "kernelspec": {
   "display_name": "name",
   "language": "python",
   "name": "python3"
  },
  "language_info": {
   "codemirror_mode": {
    "name": "ipython",
    "version": 3
   },
   "file_extension": ".py",
   "mimetype": "text/x-python",
   "name": "python",
   "nbconvert_exporter": "python",
   "pygments_lexer": "ipython3",
   "version": "3.13.5"
  }
 },
 "nbformat": 4,
 "nbformat_minor": 5
}
